{
 "cells": [
  {
   "cell_type": "code",
   "execution_count": 3,
   "metadata": {},
   "outputs": [],
   "source": [
    "import boto3\n",
    "import os\n",
    "import json"
   ]
  },
  {
   "cell_type": "code",
   "execution_count": 13,
   "metadata": {},
   "outputs": [],
   "source": [
    "with open('credentials.json') as f:\n",
    "    AWS_S3_KEY_PREFIX = json.load(f)['AWS_S3_KEY_PREFIX']\n",
    "\n",
    "with open('credentials.json') as f:\n",
    "    AWS_S3_BUCKET = json.load(f)['AWS_S3_BUCKET']\n"
   ]
  },
  {
   "cell_type": "code",
   "execution_count": null,
   "metadata": {},
   "outputs": [],
   "source": [
    "\n",
    "s3 = boto3.resource(\"s3\")\n",
    "\n",
    "def upload_data(readings: list[Reading]):\n",
    "    \"\"\"Forms a CSV file and uploads it to AWS\"\"\"\n",
    "    body = \"\\n\".join(map(Reading.to_csv, readings))\n",
    "    filename = f\"readings-{datetime.datetime.now().isoformat(timespec='seconds')}.csv\"\n",
    "    s3object = s3.Object(AWS_S3_BUCKET, AWS_S3_KEY_PREFIX + filename)\n",
    "    s3object.put(Body=body)\n",
    "    print(f\"File uploaded: {filename}\")\n",
    "\n",
    "    "
   ]
  }
 ],
 "metadata": {
  "kernelspec": {
   "display_name": "Python 3",
   "language": "python",
   "name": "python3"
  },
  "language_info": {
   "codemirror_mode": {
    "name": "ipython",
    "version": 3
   },
   "file_extension": ".py",
   "mimetype": "text/x-python",
   "name": "python",
   "nbconvert_exporter": "python",
   "pygments_lexer": "ipython3",
   "version": "3.10.6"
  },
  "orig_nbformat": 4
 },
 "nbformat": 4,
 "nbformat_minor": 2
}
