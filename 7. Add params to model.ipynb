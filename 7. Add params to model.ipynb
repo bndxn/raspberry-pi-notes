{
 "cells": [
  {
   "cell_type": "code",
   "execution_count": 12,
   "metadata": {},
   "outputs": [],
   "source": [
    "import numpy as np\n",
    "import pandas as pd\n",
    "from datetime import timedelta"
   ]
  },
  {
   "cell_type": "code",
   "execution_count": 6,
   "metadata": {},
   "outputs": [],
   "source": [
    "def preprocess_data(df: pd.DataFrame)-> pd.DataFrame:\n",
    "    \"\"\"\n",
    "    Takes a CSV from querying DynamoDB and preprocesses the data to the \n",
    "    required format for input to training. \n",
    "\n",
    "    Args: \n",
    "        df: a dataframe of readings, including temperature and humidity.\n",
    "    \n",
    "    \"\"\"\n",
    "    df.rename(columns={'humidity.S': 'humidity',\n",
    "                   'temperature.S':'temperature',\n",
    "                   'timestamp.S':'timestamp'},inplace=True)\n",
    "    \n",
    "    # Convert the timestamp column to datetime format\n",
    "    df['timestamp'] = pd.to_datetime(df['timestamp'], format='mixed')\n",
    "\n",
    "    # Round the timestamp to the nearest minute\n",
    "    df['timestamp'] = df['timestamp'].dt.round('1min')\n",
    "\n",
    "    # Remove unnecessary columns\n",
    "    df.drop(columns=['Unnamed: 0', 'humidity'],inplace=True)\n",
    "    df.sort_values(by='timestamp')\n",
    "    df = df[ df['timestamp'] > '2023-04-28' ]\n",
    "    df.set_index('timestamp', inplace=True)\n",
    "    df.dropna(inplace=True)\n",
    "\n",
    "    return pd.DataFrame(df)"
   ]
  },
  {
   "cell_type": "code",
   "execution_count": 53,
   "metadata": {},
   "outputs": [],
   "source": [
    "def augment_missing_data(df: pd.DataFrame) -> pd.DataFrame:\n",
    "    \"\"\"\n",
    "    Takes a dataframe, with some missing values due to connection issues. \n",
    "    Augments the data by inserting rows\n",
    "    \"\"\"\n",
    "\n",
    "    print(f'Dataframe size before augmentation: {df.shape}')\n",
    "\n",
    "    time_interval = timedelta(minutes=10)\n",
    "\n",
    "    i = 0 \n",
    "\n",
    "    while i < df.shape[0]-1: \n",
    "\n",
    "        current_time = pd.Timestamp(df.index[i])\n",
    "        next_time = pd.Timestamp(df.index[i + 1])\n",
    "        \n",
    "        # Check if the time interval between current and next timestamp is much longer than we expect\n",
    "        if (next_time - current_time) > time_interval + timedelta(minutes=5):\n",
    "            \n",
    "            # Insert a new row with NA values and a timestamp 10 minutes after the current timestamp\n",
    "            new_row = pd.DataFrame({'temperature': np.nan}, index=[pd.Timestamp(current_time + time_interval)])\n",
    "        \n",
    "            # Concatenate the new row to the dataframe\n",
    "            df = pd.concat([df.iloc[:i+1], new_row, df.iloc[i+1:]])\n",
    "\n",
    "        i += 1\n",
    "\n",
    "    print(f'Dataframe size after empty rows added: {df.shape}')\n",
    "\n"
   ]
  },
  {
   "cell_type": "code",
   "execution_count": 40,
   "metadata": {},
   "outputs": [],
   "source": [
    "def train_val_test_split(df: pd.DataFrame)-> pd.DataFrame:\n",
    "    \"\"\"\n",
    "    Takes a preprocessed dataframe, assumed to be sorted chronologically,\n",
    "    and returns three dataframes split into train, validation, and test; \n",
    "    done chronologically in a 60%/20%/20% split. \n",
    "\n",
    "    Args: \n",
    "        df: a DataFrame\n",
    "\n",
    "    Returns:\n",
    "        df_train, df_test, df_val: a tuple of the train, test, and validation \n",
    "        data.\n",
    "    \"\"\"\n",
    "\n",
    "    train_index = int(np.round(df.shape[0]*0.6))\n",
    "    val_index = int(np.round(df.shape[0]*0.8))\n",
    "\n",
    "    df_train = df_temp.iloc[:train_index,]\n",
    "    df_val = df_temp.iloc[train_index:val_index]\n",
    "    df_test = df_temp.iloc[val_index:]\n",
    "\n",
    "    return df_train, df_test, df_val"
   ]
  },
  {
   "cell_type": "code",
   "execution_count": 46,
   "metadata": {},
   "outputs": [
    {
     "name": "stdout",
     "output_type": "stream",
     "text": [
      "Mouse\n",
      "Mouse\n",
      "Mouse\n",
      "Mouse\n",
      "Mouse\n",
      "Mouse\n",
      "Mouse\n",
      "Mouse\n",
      "Mouse\n",
      "Mouse\n"
     ]
    }
   ],
   "source": [
    "def test_while():\n",
    "\n",
    "    i = 0\n",
    "\n",
    "    while i < 10:\n",
    "        print('Mouse')\n",
    "        i +=1 \n",
    "    \n",
    "test_while()"
   ]
  },
  {
   "cell_type": "code",
   "execution_count": 41,
   "metadata": {},
   "outputs": [
    {
     "data": {
      "text/html": [
       "<div>\n",
       "<style scoped>\n",
       "    .dataframe tbody tr th:only-of-type {\n",
       "        vertical-align: middle;\n",
       "    }\n",
       "\n",
       "    .dataframe tbody tr th {\n",
       "        vertical-align: top;\n",
       "    }\n",
       "\n",
       "    .dataframe thead th {\n",
       "        text-align: right;\n",
       "    }\n",
       "</style>\n",
       "<table border=\"1\" class=\"dataframe\">\n",
       "  <thead>\n",
       "    <tr style=\"text-align: right;\">\n",
       "      <th></th>\n",
       "      <th>temperature</th>\n",
       "    </tr>\n",
       "    <tr>\n",
       "      <th>timestamp</th>\n",
       "      <th></th>\n",
       "    </tr>\n",
       "  </thead>\n",
       "  <tbody>\n",
       "    <tr>\n",
       "      <th>2023-04-28 08:25:00</th>\n",
       "      <td>17.83</td>\n",
       "    </tr>\n",
       "    <tr>\n",
       "      <th>2023-04-28 08:26:00</th>\n",
       "      <td>17.85</td>\n",
       "    </tr>\n",
       "    <tr>\n",
       "      <th>2023-04-28 08:28:00</th>\n",
       "      <td>17.85</td>\n",
       "    </tr>\n",
       "    <tr>\n",
       "      <th>2023-04-28 08:32:00</th>\n",
       "      <td>17.88</td>\n",
       "    </tr>\n",
       "    <tr>\n",
       "      <th>2023-04-28 09:18:00</th>\n",
       "      <td>17.88</td>\n",
       "    </tr>\n",
       "  </tbody>\n",
       "</table>\n",
       "</div>"
      ],
      "text/plain": [
       "                     temperature\n",
       "timestamp                       \n",
       "2023-04-28 08:25:00        17.83\n",
       "2023-04-28 08:26:00        17.85\n",
       "2023-04-28 08:28:00        17.85\n",
       "2023-04-28 08:32:00        17.88\n",
       "2023-04-28 09:18:00        17.88"
      ]
     },
     "execution_count": 41,
     "metadata": {},
     "output_type": "execute_result"
    }
   ],
   "source": [
    "df_raw = pd.read_csv('analysis/ddb_output.csv')\n",
    "\n",
    "df_preprocessed = preprocess_data(df_raw)\n",
    "\n",
    "df_preprocessed.head(5)"
   ]
  },
  {
   "cell_type": "code",
   "execution_count": 50,
   "metadata": {},
   "outputs": [
    {
     "data": {
      "text/html": [
       "<div>\n",
       "<style scoped>\n",
       "    .dataframe tbody tr th:only-of-type {\n",
       "        vertical-align: middle;\n",
       "    }\n",
       "\n",
       "    .dataframe tbody tr th {\n",
       "        vertical-align: top;\n",
       "    }\n",
       "\n",
       "    .dataframe thead th {\n",
       "        text-align: right;\n",
       "    }\n",
       "</style>\n",
       "<table border=\"1\" class=\"dataframe\">\n",
       "  <thead>\n",
       "    <tr style=\"text-align: right;\">\n",
       "      <th></th>\n",
       "      <th>temperature</th>\n",
       "    </tr>\n",
       "  </thead>\n",
       "  <tbody>\n",
       "    <tr>\n",
       "      <th>2023-04-28 08:25:00</th>\n",
       "      <td>17.83</td>\n",
       "    </tr>\n",
       "    <tr>\n",
       "      <th>2023-04-28 08:26:00</th>\n",
       "      <td>17.85</td>\n",
       "    </tr>\n",
       "    <tr>\n",
       "      <th>2023-04-28 08:28:00</th>\n",
       "      <td>17.85</td>\n",
       "    </tr>\n",
       "    <tr>\n",
       "      <th>2023-04-28 08:32:00</th>\n",
       "      <td>17.88</td>\n",
       "    </tr>\n",
       "    <tr>\n",
       "      <th>2023-04-28 09:18:00</th>\n",
       "      <td>17.88</td>\n",
       "    </tr>\n",
       "    <tr>\n",
       "      <th>2023-05-05 00:00:00</th>\n",
       "      <td>NaN</td>\n",
       "    </tr>\n",
       "  </tbody>\n",
       "</table>\n",
       "</div>"
      ],
      "text/plain": [
       "                     temperature\n",
       "2023-04-28 08:25:00        17.83\n",
       "2023-04-28 08:26:00        17.85\n",
       "2023-04-28 08:28:00        17.85\n",
       "2023-04-28 08:32:00        17.88\n",
       "2023-04-28 09:18:00        17.88\n",
       "2023-05-05 00:00:00          NaN"
      ]
     },
     "execution_count": 50,
     "metadata": {},
     "output_type": "execute_result"
    }
   ],
   "source": [
    "new_row = pd.DataFrame({'temperature': np.nan}, index=[pd.Timestamp('2023-05-05')])\n",
    "\n",
    "pd.concat([df_preprocessed.iloc[:5], new_row])\n",
    "\n"
   ]
  },
  {
   "cell_type": "code",
   "execution_count": 47,
   "metadata": {},
   "outputs": [
    {
     "data": {
      "text/plain": [
       "16134"
      ]
     },
     "execution_count": 47,
     "metadata": {},
     "output_type": "execute_result"
    }
   ],
   "source": [
    "df_preprocessed.shape[0]"
   ]
  },
  {
   "cell_type": "code",
   "execution_count": 54,
   "metadata": {},
   "outputs": [
    {
     "name": "stdout",
     "output_type": "stream",
     "text": [
      "Dataframe size before augmentation: (16134, 1)\n",
      "Dataframe size after empty rows added: (18011, 1)\n"
     ]
    }
   ],
   "source": [
    "df_augmented = augment_missing_data(df_preprocessed)"
   ]
  },
  {
   "cell_type": "code",
   "execution_count": 32,
   "metadata": {},
   "outputs": [
    {
     "data": {
      "text/plain": [
       "Timestamp('2023-04-28 08:28:00')"
      ]
     },
     "execution_count": 32,
     "metadata": {},
     "output_type": "execute_result"
    }
   ],
   "source": [
    "pd.Timestamp(df_preprocessed.index[2])"
   ]
  },
  {
   "cell_type": "code",
   "execution_count": 31,
   "metadata": {},
   "outputs": [
    {
     "data": {
      "text/plain": [
       "Timestamp('2023-04-28 08:32:00')"
      ]
     },
     "execution_count": 31,
     "metadata": {},
     "output_type": "execute_result"
    }
   ],
   "source": [
    "df_preprocessed.index[3]"
   ]
  },
  {
   "cell_type": "code",
   "execution_count": null,
   "metadata": {},
   "outputs": [],
   "source": []
  }
 ],
 "metadata": {
  "kernelspec": {
   "display_name": "Python 3",
   "language": "python",
   "name": "python3"
  },
  "language_info": {
   "codemirror_mode": {
    "name": "ipython",
    "version": 3
   },
   "file_extension": ".py",
   "mimetype": "text/x-python",
   "name": "python",
   "nbconvert_exporter": "python",
   "pygments_lexer": "ipython3",
   "version": "3.9.11"
  }
 },
 "nbformat": 4,
 "nbformat_minor": 2
}
