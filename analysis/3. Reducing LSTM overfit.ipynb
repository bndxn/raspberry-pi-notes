{
 "cells": [
  {
   "cell_type": "code",
   "execution_count": 2,
   "metadata": {},
   "outputs": [],
   "source": [
    "from tensorflow import keras\n",
    "from keras.preprocessing.sequence import TimeseriesGenerator\n",
    "from keras import layers\n",
    "from sklearn.preprocessing import MinMaxScaler\n"
   ]
  },
  {
   "cell_type": "code",
   "execution_count": 3,
   "metadata": {},
   "outputs": [],
   "source": [
    "import logging\n",
    "logging.getLogger('tensorflow').setLevel(logging.ERROR)\n",
    "logging.getLogger('keras').setLevel(logging.ERROR)\n"
   ]
  },
  {
   "cell_type": "code",
   "execution_count": 4,
   "metadata": {},
   "outputs": [],
   "source": [
    "import numpy as np\n",
    "import pandas as pd\n",
    "import plotly.express as px\n",
    "import plotly.graph_objs as go\n",
    "import plotly.graph_objects as go\n",
    "from plotly.subplots import make_subplots\n",
    "import matplotlib.pyplot as plt\n",
    "import pickle \n",
    "\n"
   ]
  },
  {
   "cell_type": "code",
   "execution_count": 5,
   "metadata": {},
   "outputs": [],
   "source": [
    "df = pd.read_csv('ddb_output.csv')\n",
    "df.rename(columns={'humidity.S': 'humidity',\n",
    "                   'temperature.S':'temperature',\n",
    "                   'timestamp.S':'timestamp'},inplace=True)\n",
    "df.drop(columns=['Unnamed: 0'],inplace=True)\n",
    "#df.reset_index(drop=True,inplace=True)\n",
    "df.sort_values(by='timestamp',inplace=True)\n"
   ]
  },
  {
   "attachments": {},
   "cell_type": "markdown",
   "metadata": {},
   "source": [
    "### Baseline - persistence forecast 1,2,4 hours in advance"
   ]
  },
  {
   "cell_type": "code",
   "execution_count": 6,
   "metadata": {},
   "outputs": [],
   "source": [
    "df_temp =  df[ df['timestamp'] > str(pd.Timestamp('2023-04-28')) ].drop(columns=['humidity'])\n",
    "df_temp.reset_index(inplace=True,drop=True)\n",
    "\n",
    "df_temp['timestamp'] = df_temp['timestamp'].apply(lambda x: pd.to_datetime(x)) \n",
    "df_temp['timestamp'] = df_temp['timestamp'].dt.round('5min')\n",
    "\n",
    "df_temp.set_index('timestamp',inplace=True)\n",
    "df_temp.dropna(inplace=True)"
   ]
  },
  {
   "cell_type": "code",
   "execution_count": null,
   "metadata": {},
   "outputs": [],
   "source": []
  },
  {
   "cell_type": "code",
   "execution_count": 7,
   "metadata": {},
   "outputs": [],
   "source": [
    "# Split the data, 50% in training and 25% in validation, 25% in test, and not randomly selected since this is a time series\n",
    "\n",
    "scaler = MinMaxScaler()\n",
    "\n",
    "last_train_index = int(np.round(df_temp['temperature'].shape[0]*0.5))\n",
    "last_val_index = int(np.round(df_temp['temperature'].shape[0]*0.75))\n",
    "\n",
    "train_data = df_temp.iloc[:last_train_index,]\n",
    "validation_data = df_temp.iloc[last_train_index:last_val_index]\n",
    "test_data = df_temp.iloc[last_val_index:]\n",
    "\n",
    "# Fit to the train set, then transform the train set and the test set\n",
    "# TODO: Check, should not fit on test set?\n",
    "\n",
    "scaler.fit(train_data)\n",
    "scaled_train = scaler.transform(train_data)\n",
    "scaled_validation = scaler.transform(validation_data)\n",
    "scaled_test = scaler.transform(test_data)\n"
   ]
  },
  {
   "cell_type": "code",
   "execution_count": 8,
   "metadata": {},
   "outputs": [],
   "source": [
    "delay = 12\n",
    "sequence_length = 36\n",
    "\n",
    "train = keras.preprocessing.timeseries_dataset_from_array(scaled_train[:-delay], scaled_train[sequence_length+delay:], \n",
    "                            sequence_length=sequence_length, batch_size=1, shuffle=True)\n",
    "\n",
    "validation = keras.preprocessing.timeseries_dataset_from_array(scaled_validation[:-delay], scaled_validation[sequence_length+delay:], \n",
    "                            sequence_length=sequence_length, batch_size=1, shuffle=True)\n",
    "\n",
    "test = keras.preprocessing.timeseries_dataset_from_array(scaled_test[:-delay], scaled_test[sequence_length+delay:], \n",
    "                            sequence_length=sequence_length, batch_size=1, shuffle=True)\n",
    "\n",
    "\n"
   ]
  },
  {
   "cell_type": "code",
   "execution_count": 30,
   "metadata": {},
   "outputs": [
    {
     "name": "stdout",
     "output_type": "stream",
     "text": [
      "Epoch 1/10\n",
      "989/998 [============================>.] - ETA: 0s - loss: 0.0135 - mae: 0.0675\n",
      "Epoch 1: val_loss improved from inf to 0.00632, saving model to model_checkpoint_early_stopping.h5\n",
      "998/998 [==============================] - 5s 4ms/step - loss: 0.0134 - mae: 0.0673 - val_loss: 0.0063 - val_mae: 0.0653\n",
      "Epoch 2/10\n",
      "990/998 [============================>.] - ETA: 0s - loss: 0.0030 - mae: 0.0421\n",
      "Epoch 2: val_loss improved from 0.00632 to 0.00503, saving model to model_checkpoint_early_stopping.h5\n",
      "998/998 [==============================] - 4s 4ms/step - loss: 0.0031 - mae: 0.0421 - val_loss: 0.0050 - val_mae: 0.0574\n",
      "Epoch 3/10\n",
      "993/998 [============================>.] - ETA: 0s - loss: 0.0025 - mae: 0.0380\n",
      "Epoch 3: val_loss improved from 0.00503 to 0.00427, saving model to model_checkpoint_early_stopping.h5\n",
      "998/998 [==============================] - 4s 4ms/step - loss: 0.0025 - mae: 0.0380 - val_loss: 0.0043 - val_mae: 0.0516\n",
      "Epoch 4/10\n",
      "990/998 [============================>.] - ETA: 0s - loss: 0.0021 - mae: 0.0349\n",
      "Epoch 4: val_loss did not improve from 0.00427\n",
      "998/998 [==============================] - 4s 4ms/step - loss: 0.0022 - mae: 0.0352 - val_loss: 0.0048 - val_mae: 0.0530\n",
      "Epoch 5/10\n",
      "992/998 [============================>.] - ETA: 0s - loss: 0.0020 - mae: 0.0337\n",
      "Epoch 5: val_loss did not improve from 0.00427\n",
      "998/998 [==============================] - 4s 4ms/step - loss: 0.0020 - mae: 0.0337 - val_loss: 0.0064 - val_mae: 0.0640\n",
      "Epoch 6/10\n",
      "992/998 [============================>.] - ETA: 0s - loss: 0.0020 - mae: 0.0337\n",
      "Epoch 6: val_loss improved from 0.00427 to 0.00349, saving model to model_checkpoint_early_stopping.h5\n",
      "998/998 [==============================] - 4s 4ms/step - loss: 0.0020 - mae: 0.0338 - val_loss: 0.0035 - val_mae: 0.0456\n",
      "Epoch 7/10\n",
      "990/998 [============================>.] - ETA: 0s - loss: 0.0019 - mae: 0.0326\n",
      "Epoch 7: val_loss did not improve from 0.00349\n",
      "998/998 [==============================] - 4s 4ms/step - loss: 0.0019 - mae: 0.0328 - val_loss: 0.0040 - val_mae: 0.0488\n",
      "Epoch 8/10\n",
      "991/998 [============================>.] - ETA: 0s - loss: 0.0018 - mae: 0.0314\n",
      "Epoch 8: val_loss did not improve from 0.00349\n",
      "998/998 [==============================] - 4s 4ms/step - loss: 0.0018 - mae: 0.0315 - val_loss: 0.0038 - val_mae: 0.0480\n",
      "Epoch 9/10\n",
      "994/998 [============================>.] - ETA: 0s - loss: 0.0018 - mae: 0.0316\n",
      "Epoch 9: val_loss did not improve from 0.00349\n",
      "998/998 [==============================] - 4s 4ms/step - loss: 0.0019 - mae: 0.0319 - val_loss: 0.0043 - val_mae: 0.0509\n",
      "Epoch 10/10\n",
      "994/998 [============================>.] - ETA: 0s - loss: 0.0018 - mae: 0.0320\n",
      "Epoch 10: val_loss did not improve from 0.00349\n",
      "998/998 [==============================] - 4s 4ms/step - loss: 0.0018 - mae: 0.0320 - val_loss: 0.0047 - val_mae: 0.0527\n"
     ]
    },
    {
     "data": {
      "image/png": "[encoded data removed]",
      "text/plain": [
       "<Figure size 640x480 with 1 Axes>"
      ]
     },
     "metadata": {},
     "output_type": "display_data"
    }
   ],
   "source": [
    "# See if early stopping does any better\n",
    "\n",
    "inputs = keras.Input(shape=(36, 1))\n",
    "\n",
    "x = layers.LSTM(16)(inputs)\n",
    "outputs = layers.Dense(1)(x)\n",
    "\n",
    "model = keras.Model(inputs, outputs)\n",
    "\n",
    "model.compile(optimizer=\"adam\", loss=\"mse\", metrics=[\"mae\"])\n",
    "\n",
    "path_checkpoint = f\"model_checkpoint_early_stopping.h5\"\n",
    "es_callback = keras.callbacks.EarlyStopping(monitor=\"val_loss\", min_delta=0, patience=5)\n",
    "\n",
    "modelckpt_callback = keras.callbacks.ModelCheckpoint(\n",
    "    monitor=\"val_loss\",\n",
    "    filepath=path_checkpoint,\n",
    "    verbose=1,\n",
    "    save_weights_only=True,\n",
    "    save_best_only=True,\n",
    "    )\n",
    "\n",
    "history = model.fit(train,\n",
    "                    epochs=10,\n",
    "                    validation_data=validation,\n",
    "                        callbacks=[es_callback, modelckpt_callback],\n",
    "                    )\n",
    "\n",
    "\n",
    "loss = history.history[\"mae\"]\n",
    "val_loss = history.history[\"val_mae\"]\n",
    "epochs = range(1, len(loss) + 1)\n",
    "\n",
    "persistence_mae = 0.0584\n",
    "\n",
    "plt.figure()\n",
    "plt.plot(epochs, loss, \"bo\", label=\"Training MAE\")\n",
    "plt.plot(epochs, val_loss, \"b\", label=\"Validation MAE\")\n",
    "plt.axhline(y=persistence_mae, color='r', linestyle='--', label='Persistence baseline')\n",
    "plt.title(f'Training and validation MAE - 16 LSTM units')\n",
    "plt.legend()\n",
    "plt.show()"
   ]
  },
  {
   "cell_type": "code",
   "execution_count": 17,
   "metadata": {},
   "outputs": [],
   "source": [
    "import keras_tuner as kt"
   ]
  },
  {
   "cell_type": "code",
   "execution_count": 18,
   "metadata": {},
   "outputs": [],
   "source": [
    "def model_builder(hp):\n",
    "  hp_dropout = hp.Choice('dropout', values=[0.0, 0.1, 0.2, 0.3])\n",
    "  hp_recurrent_dropout = hp.Choice('recurrent_droput', values=[0.0, 0.1, 0.2, 0.3])\n",
    "   \n",
    "  inputs = keras.Input(shape=(36, 1))\n",
    "  x = layers.LSTM(16, \n",
    "                  dropout=hp_dropout, \n",
    "                  recurrent_dropout=hp_recurrent_dropout)(inputs)\n",
    "  outputs = layers.Dense(1)(x)\n",
    "\n",
    "  model = keras.Model(inputs, outputs)\n",
    "\n",
    "  model.compile(optimizer=\"adam\", loss=\"mse\", metrics=[\"mae\"])\n",
    "\n",
    "  return model\n"
   ]
  },
  {
   "cell_type": "code",
   "execution_count": 19,
   "metadata": {},
   "outputs": [
    {
     "name": "stdout",
     "output_type": "stream",
     "text": [
      "Trial 26 Complete [00h 07m 31s]\n",
      "val_loss: 0.00784596148878336\n",
      "\n",
      "Best val_loss So Far: 0.003305144375190139\n",
      "Total elapsed time: 00h 12m 44s\n",
      "\n",
      "The hyperparameter search is complete. The optimal rate of dropout for the input\n",
      "layer is 0.0 and the rate of recurrent dropout \n",
      "is 0.0.\n",
      "\n"
     ]
    }
   ],
   "source": [
    "tuner = kt.Hyperband(model_builder,\n",
    "                objective='val_loss', # legacy version https://stackoverflow.com/questions/39883331/plotting-learning-curve-in-keras-gives-keyerror-val-acc ??\n",
    "                max_epochs=10,\n",
    "                factor=3,\n",
    "                directory='my_dir',\n",
    "                project_name='intro_to_kt')\n",
    "\n",
    "path_checkpoint = f\"model_checkpoint_early_stopping.h5\"\n",
    "es_callback = keras.callbacks.EarlyStopping(monitor=\"val_loss\", min_delta=0, patience=5)\n",
    "\n",
    "modelckpt_callback = keras.callbacks.ModelCheckpoint(\n",
    "    monitor=\"val_loss\",\n",
    "    filepath=path_checkpoint,\n",
    "    verbose=1,\n",
    "    save_weights_only=True,\n",
    "    save_best_only=True,\n",
    "    )\n",
    "\n",
    "tuner.search(train,epochs=10,validation_data=validation,\n",
    "                          callbacks=[es_callback, modelckpt_callback])\n",
    "\n",
    "best_hps=tuner.get_best_hyperparameters(num_trials=1)[0]\n",
    "\n",
    "print(f\"\"\"\n",
    "The hyperparameter search is complete. The optimal rate of dropout for the input\n",
    "layer is {best_hps.get('dropout')} and the rate of recurrent dropout \n",
    "is {best_hps.get('recurrent_droput')}.\n",
    "\"\"\")"
   ]
  },
  {
   "cell_type": "code",
   "execution_count": 22,
   "metadata": {},
   "outputs": [
    {
     "name": "stdout",
     "output_type": "stream",
     "text": [
      "Epoch 1/50\n",
      "998/998 [==============================] - 6s 4ms/step - loss: 0.0105 - mae: 0.0606 - val_loss: 0.0062 - val_mae: 0.0649\n",
      "Epoch 2/50\n",
      "998/998 [==============================] - 4s 4ms/step - loss: 0.0031 - mae: 0.0427 - val_loss: 0.0061 - val_mae: 0.0633\n",
      "Epoch 3/50\n",
      "998/998 [==============================] - 4s 4ms/step - loss: 0.0028 - mae: 0.0400 - val_loss: 0.0053 - val_mae: 0.0588\n",
      "Epoch 4/50\n",
      "998/998 [==============================] - 4s 4ms/step - loss: 0.0025 - mae: 0.0376 - val_loss: 0.0062 - val_mae: 0.0625\n",
      "Epoch 5/50\n",
      "998/998 [==============================] - 4s 4ms/step - loss: 0.0022 - mae: 0.0359 - val_loss: 0.0051 - val_mae: 0.0558\n",
      "Epoch 6/50\n",
      "998/998 [==============================] - 4s 4ms/step - loss: 0.0021 - mae: 0.0349 - val_loss: 0.0035 - val_mae: 0.0470\n",
      "Epoch 7/50\n",
      "998/998 [==============================] - 4s 4ms/step - loss: 0.0019 - mae: 0.0334 - val_loss: 0.0043 - val_mae: 0.0500\n",
      "Epoch 8/50\n",
      "998/998 [==============================] - 4s 4ms/step - loss: 0.0019 - mae: 0.0328 - val_loss: 0.0044 - val_mae: 0.0512\n",
      "Epoch 9/50\n",
      "998/998 [==============================] - 4s 4ms/step - loss: 0.0018 - mae: 0.0320 - val_loss: 0.0052 - val_mae: 0.0561\n",
      "Epoch 10/50\n",
      "998/998 [==============================] - 4s 4ms/step - loss: 0.0019 - mae: 0.0323 - val_loss: 0.0035 - val_mae: 0.0454\n",
      "Epoch 11/50\n",
      "998/998 [==============================] - 4s 4ms/step - loss: 0.0018 - mae: 0.0321 - val_loss: 0.0050 - val_mae: 0.0548\n",
      "Epoch 12/50\n",
      "998/998 [==============================] - 4s 4ms/step - loss: 0.0018 - mae: 0.0326 - val_loss: 0.0032 - val_mae: 0.0437\n",
      "Epoch 13/50\n",
      "998/998 [==============================] - 4s 4ms/step - loss: 0.0017 - mae: 0.0312 - val_loss: 0.0041 - val_mae: 0.0488\n",
      "Epoch 14/50\n",
      "998/998 [==============================] - 4s 4ms/step - loss: 0.0017 - mae: 0.0318 - val_loss: 0.0036 - val_mae: 0.0459\n",
      "Epoch 15/50\n",
      "998/998 [==============================] - 4s 4ms/step - loss: 0.0017 - mae: 0.0311 - val_loss: 0.0042 - val_mae: 0.0501\n",
      "Epoch 16/50\n",
      "998/998 [==============================] - 5s 5ms/step - loss: 0.0017 - mae: 0.0311 - val_loss: 0.0039 - val_mae: 0.0477\n",
      "Epoch 17/50\n",
      "998/998 [==============================] - 4s 4ms/step - loss: 0.0016 - mae: 0.0305 - val_loss: 0.0037 - val_mae: 0.0462\n",
      "Epoch 18/50\n",
      "998/998 [==============================] - 4s 4ms/step - loss: 0.0017 - mae: 0.0307 - val_loss: 0.0033 - val_mae: 0.0440\n",
      "Epoch 19/50\n",
      "998/998 [==============================] - 4s 4ms/step - loss: 0.0017 - mae: 0.0306 - val_loss: 0.0040 - val_mae: 0.0484\n",
      "Epoch 20/50\n",
      "998/998 [==============================] - 4s 4ms/step - loss: 0.0017 - mae: 0.0307 - val_loss: 0.0038 - val_mae: 0.0478\n",
      "Epoch 21/50\n",
      "998/998 [==============================] - 4s 4ms/step - loss: 0.0017 - mae: 0.0309 - val_loss: 0.0036 - val_mae: 0.0455\n",
      "Epoch 22/50\n",
      "998/998 [==============================] - 4s 4ms/step - loss: 0.0016 - mae: 0.0306 - val_loss: 0.0041 - val_mae: 0.0497\n",
      "Epoch 23/50\n",
      "998/998 [==============================] - 4s 4ms/step - loss: 0.0016 - mae: 0.0304 - val_loss: 0.0050 - val_mae: 0.0553\n",
      "Epoch 24/50\n",
      "998/998 [==============================] - 4s 4ms/step - loss: 0.0016 - mae: 0.0302 - val_loss: 0.0043 - val_mae: 0.0502\n",
      "Epoch 25/50\n",
      "998/998 [==============================] - 4s 4ms/step - loss: 0.0016 - mae: 0.0302 - val_loss: 0.0034 - val_mae: 0.0442\n",
      "Epoch 26/50\n",
      "998/998 [==============================] - 4s 4ms/step - loss: 0.0017 - mae: 0.0309 - val_loss: 0.0031 - val_mae: 0.0431\n",
      "Epoch 27/50\n",
      "998/998 [==============================] - 4s 4ms/step - loss: 0.0016 - mae: 0.0298 - val_loss: 0.0037 - val_mae: 0.0468\n",
      "Epoch 28/50\n",
      "998/998 [==============================] - 4s 4ms/step - loss: 0.0016 - mae: 0.0303 - val_loss: 0.0032 - val_mae: 0.0436\n",
      "Epoch 29/50\n",
      "998/998 [==============================] - 4s 4ms/step - loss: 0.0016 - mae: 0.0302 - val_loss: 0.0038 - val_mae: 0.0481\n",
      "Epoch 30/50\n",
      "998/998 [==============================] - 4s 4ms/step - loss: 0.0015 - mae: 0.0292 - val_loss: 0.0037 - val_mae: 0.0471\n",
      "Epoch 31/50\n",
      "998/998 [==============================] - 4s 4ms/step - loss: 0.0016 - mae: 0.0296 - val_loss: 0.0030 - val_mae: 0.0424\n",
      "Epoch 32/50\n",
      "998/998 [==============================] - 4s 4ms/step - loss: 0.0015 - mae: 0.0293 - val_loss: 0.0033 - val_mae: 0.0441\n",
      "Epoch 33/50\n",
      "998/998 [==============================] - 4s 4ms/step - loss: 0.0016 - mae: 0.0293 - val_loss: 0.0036 - val_mae: 0.0461\n",
      "Epoch 34/50\n",
      "998/998 [==============================] - 4s 4ms/step - loss: 0.0015 - mae: 0.0287 - val_loss: 0.0028 - val_mae: 0.0409\n",
      "Epoch 35/50\n",
      "998/998 [==============================] - 4s 4ms/step - loss: 0.0015 - mae: 0.0292 - val_loss: 0.0028 - val_mae: 0.0414\n",
      "Epoch 36/50\n",
      "998/998 [==============================] - 4s 4ms/step - loss: 0.0015 - mae: 0.0290 - val_loss: 0.0028 - val_mae: 0.0410\n",
      "Epoch 37/50\n",
      "998/998 [==============================] - 4s 4ms/step - loss: 0.0015 - mae: 0.0289 - val_loss: 0.0032 - val_mae: 0.0435\n",
      "Epoch 38/50\n",
      "998/998 [==============================] - 4s 4ms/step - loss: 0.0015 - mae: 0.0289 - val_loss: 0.0027 - val_mae: 0.0407\n",
      "Epoch 39/50\n",
      "998/998 [==============================] - 4s 4ms/step - loss: 0.0015 - mae: 0.0289 - val_loss: 0.0034 - val_mae: 0.0447\n",
      "Epoch 40/50\n",
      "998/998 [==============================] - 4s 4ms/step - loss: 0.0015 - mae: 0.0286 - val_loss: 0.0034 - val_mae: 0.0454\n",
      "Epoch 41/50\n",
      "998/998 [==============================] - 4s 4ms/step - loss: 0.0015 - mae: 0.0287 - val_loss: 0.0029 - val_mae: 0.0411\n",
      "Epoch 42/50\n",
      "998/998 [==============================] - 4s 4ms/step - loss: 0.0015 - mae: 0.0290 - val_loss: 0.0027 - val_mae: 0.0406\n",
      "Epoch 43/50\n",
      "998/998 [==============================] - 4s 4ms/step - loss: 0.0015 - mae: 0.0292 - val_loss: 0.0027 - val_mae: 0.0407\n",
      "Epoch 44/50\n",
      "998/998 [==============================] - 4s 4ms/step - loss: 0.0015 - mae: 0.0291 - val_loss: 0.0033 - val_mae: 0.0443\n",
      "Epoch 45/50\n",
      "998/998 [==============================] - 4s 4ms/step - loss: 0.0015 - mae: 0.0289 - val_loss: 0.0027 - val_mae: 0.0407\n",
      "Epoch 46/50\n",
      "998/998 [==============================] - 4s 4ms/step - loss: 0.0015 - mae: 0.0286 - val_loss: 0.0030 - val_mae: 0.0422\n",
      "Epoch 47/50\n",
      "998/998 [==============================] - 4s 4ms/step - loss: 0.0015 - mae: 0.0286 - val_loss: 0.0028 - val_mae: 0.0412\n",
      "Epoch 48/50\n",
      "998/998 [==============================] - 4s 4ms/step - loss: 0.0015 - mae: 0.0285 - val_loss: 0.0027 - val_mae: 0.0409\n",
      "Epoch 49/50\n",
      "998/998 [==============================] - 4s 4ms/step - loss: 0.0015 - mae: 0.0287 - val_loss: 0.0028 - val_mae: 0.0411\n",
      "Epoch 50/50\n",
      "998/998 [==============================] - 4s 4ms/step - loss: 0.0015 - mae: 0.0286 - val_loss: 0.0028 - val_mae: 0.0412\n",
      "Best epoch: 1\n"
     ]
    }
   ],
   "source": [
    "# Build the model with the optimal hyperparameters and train it on the data for 50 epochs\n",
    "model = tuner.hypermodel.build(best_hps)\n",
    "history = model.fit(train, epochs=50, validation_data=validation)\n",
    "\n",
    "val_loss_per_epoch = history.history['val_loss']"
   ]
  },
  {
   "cell_type": "code",
   "execution_count": 23,
   "metadata": {},
   "outputs": [
    {
     "name": "stdout",
     "output_type": "stream",
     "text": [
      "Best epoch: 38\n"
     ]
    }
   ],
   "source": [
    "best_epoch = val_loss_per_epoch.index(min(val_loss_per_epoch)) + 1\n",
    "print('Best epoch: %d' % (best_epoch,))"
   ]
  },
  {
   "cell_type": "code",
   "execution_count": 25,
   "metadata": {},
   "outputs": [
    {
     "name": "stdout",
     "output_type": "stream",
     "text": [
      "Epoch 1/38\n",
      "998/998 [==============================] - 5s 4ms/step - loss: 0.0091 - mae: 0.0570 - val_loss: 0.0063 - val_mae: 0.0647\n",
      "Epoch 2/38\n",
      "998/998 [==============================] - 4s 4ms/step - loss: 0.0030 - mae: 0.0417 - val_loss: 0.0063 - val_mae: 0.0637\n",
      "Epoch 3/38\n",
      "998/998 [==============================] - 4s 4ms/step - loss: 0.0026 - mae: 0.0386 - val_loss: 0.0054 - val_mae: 0.0583\n",
      "Epoch 4/38\n",
      "998/998 [==============================] - 4s 4ms/step - loss: 0.0023 - mae: 0.0360 - val_loss: 0.0054 - val_mae: 0.0573\n",
      "Epoch 5/38\n",
      "998/998 [==============================] - 4s 4ms/step - loss: 0.0021 - mae: 0.0348 - val_loss: 0.0039 - val_mae: 0.0485\n",
      "Epoch 6/38\n",
      "998/998 [==============================] - 4s 4ms/step - loss: 0.0021 - mae: 0.0340 - val_loss: 0.0066 - val_mae: 0.0650\n",
      "Epoch 7/38\n",
      "998/998 [==============================] - 4s 4ms/step - loss: 0.0019 - mae: 0.0329 - val_loss: 0.0056 - val_mae: 0.0583\n",
      "Epoch 8/38\n",
      "998/998 [==============================] - 4s 4ms/step - loss: 0.0019 - mae: 0.0332 - val_loss: 0.0039 - val_mae: 0.0481\n",
      "Epoch 9/38\n",
      "998/998 [==============================] - 4s 4ms/step - loss: 0.0018 - mae: 0.0317 - val_loss: 0.0044 - val_mae: 0.0510\n",
      "Epoch 10/38\n",
      "998/998 [==============================] - 4s 4ms/step - loss: 0.0018 - mae: 0.0314 - val_loss: 0.0044 - val_mae: 0.0509\n",
      "Epoch 11/38\n",
      "998/998 [==============================] - 4s 4ms/step - loss: 0.0018 - mae: 0.0324 - val_loss: 0.0033 - val_mae: 0.0440\n",
      "Epoch 12/38\n",
      "998/998 [==============================] - 4s 4ms/step - loss: 0.0017 - mae: 0.0312 - val_loss: 0.0045 - val_mae: 0.0512\n",
      "Epoch 13/38\n",
      "998/998 [==============================] - 4s 4ms/step - loss: 0.0017 - mae: 0.0313 - val_loss: 0.0040 - val_mae: 0.0489\n",
      "Epoch 14/38\n",
      "998/998 [==============================] - 4s 4ms/step - loss: 0.0016 - mae: 0.0306 - val_loss: 0.0043 - val_mae: 0.0502\n",
      "Epoch 15/38\n",
      "998/998 [==============================] - 4s 4ms/step - loss: 0.0017 - mae: 0.0313 - val_loss: 0.0036 - val_mae: 0.0463\n",
      "Epoch 16/38\n",
      "998/998 [==============================] - 4s 4ms/step - loss: 0.0017 - mae: 0.0309 - val_loss: 0.0038 - val_mae: 0.0474\n",
      "Epoch 17/38\n",
      "998/998 [==============================] - 4s 4ms/step - loss: 0.0017 - mae: 0.0307 - val_loss: 0.0029 - val_mae: 0.0416\n",
      "Epoch 18/38\n",
      "998/998 [==============================] - 4s 4ms/step - loss: 0.0017 - mae: 0.0310 - val_loss: 0.0036 - val_mae: 0.0458\n",
      "Epoch 19/38\n",
      "998/998 [==============================] - 4s 4ms/step - loss: 0.0017 - mae: 0.0310 - val_loss: 0.0046 - val_mae: 0.0525\n",
      "Epoch 20/38\n",
      "998/998 [==============================] - 5s 5ms/step - loss: 0.0016 - mae: 0.0303 - val_loss: 0.0043 - val_mae: 0.0503\n",
      "Epoch 21/38\n",
      "998/998 [==============================] - 4s 4ms/step - loss: 0.0016 - mae: 0.0303 - val_loss: 0.0038 - val_mae: 0.0472\n",
      "Epoch 22/38\n",
      "998/998 [==============================] - 4s 4ms/step - loss: 0.0016 - mae: 0.0298 - val_loss: 0.0031 - val_mae: 0.0427\n",
      "Epoch 23/38\n",
      "998/998 [==============================] - 4s 4ms/step - loss: 0.0016 - mae: 0.0299 - val_loss: 0.0036 - val_mae: 0.0458\n",
      "Epoch 24/38\n",
      "998/998 [==============================] - 4s 4ms/step - loss: 0.0016 - mae: 0.0302 - val_loss: 0.0027 - val_mae: 0.0411\n",
      "Epoch 25/38\n",
      "998/998 [==============================] - 4s 4ms/step - loss: 0.0016 - mae: 0.0296 - val_loss: 0.0035 - val_mae: 0.0457\n",
      "Epoch 26/38\n",
      "998/998 [==============================] - 4s 4ms/step - loss: 0.0016 - mae: 0.0299 - val_loss: 0.0035 - val_mae: 0.0453\n",
      "Epoch 27/38\n",
      "998/998 [==============================] - 4s 4ms/step - loss: 0.0016 - mae: 0.0297 - val_loss: 0.0028 - val_mae: 0.0408\n",
      "Epoch 28/38\n",
      "998/998 [==============================] - 4s 4ms/step - loss: 0.0016 - mae: 0.0300 - val_loss: 0.0032 - val_mae: 0.0432\n",
      "Epoch 29/38\n",
      "998/998 [==============================] - 4s 4ms/step - loss: 0.0016 - mae: 0.0294 - val_loss: 0.0028 - val_mae: 0.0408\n",
      "Epoch 30/38\n",
      "998/998 [==============================] - 4s 4ms/step - loss: 0.0016 - mae: 0.0298 - val_loss: 0.0029 - val_mae: 0.0416\n",
      "Epoch 31/38\n",
      "998/998 [==============================] - 4s 4ms/step - loss: 0.0015 - mae: 0.0291 - val_loss: 0.0033 - val_mae: 0.0438\n",
      "Epoch 32/38\n",
      "998/998 [==============================] - 4s 4ms/step - loss: 0.0016 - mae: 0.0291 - val_loss: 0.0034 - val_mae: 0.0448\n",
      "Epoch 33/38\n",
      "998/998 [==============================] - 4s 4ms/step - loss: 0.0016 - mae: 0.0291 - val_loss: 0.0032 - val_mae: 0.0436\n",
      "Epoch 34/38\n",
      "998/998 [==============================] - 4s 4ms/step - loss: 0.0015 - mae: 0.0288 - val_loss: 0.0028 - val_mae: 0.0415\n",
      "Epoch 35/38\n",
      "998/998 [==============================] - 4s 4ms/step - loss: 0.0016 - mae: 0.0290 - val_loss: 0.0033 - val_mae: 0.0441\n",
      "Epoch 36/38\n",
      "998/998 [==============================] - 4s 4ms/step - loss: 0.0015 - mae: 0.0288 - val_loss: 0.0028 - val_mae: 0.0412\n",
      "Epoch 37/38\n",
      "998/998 [==============================] - 4s 4ms/step - loss: 0.0015 - mae: 0.0283 - val_loss: 0.0031 - val_mae: 0.0429\n",
      "Epoch 38/38\n",
      "998/998 [==============================] - 4s 4ms/step - loss: 0.0015 - mae: 0.0280 - val_loss: 0.0027 - val_mae: 0.0412\n"
     ]
    },
    {
     "data": {
      "text/plain": [
       "<keras.src.callbacks.History at 0x2c77c8d90>"
      ]
     },
     "execution_count": 25,
     "metadata": {},
     "output_type": "execute_result"
    }
   ],
   "source": [
    "# Re-instantiate the hypermodel and train it with the optimal number of epochs from above.\n",
    "\n",
    "hypermodel = tuner.hypermodel.build(best_hps)\n",
    "\n",
    "hypermodel.fit(train, epochs=best_epoch, validation_data=validation)"
   ]
  },
  {
   "cell_type": "code",
   "execution_count": 29,
   "metadata": {},
   "outputs": [
    {
     "name": "stdout",
     "output_type": "stream",
     "text": [
      "475/475 [==============================] - 1s 1ms/step - loss: 0.0068 - mae: 0.0656\n",
      "[test results]: 0.06557800620794296\n",
      "Persistence: 0.0584\n"
     ]
    }
   ],
   "source": [
    "eval_result = hypermodel.evaluate(test)[1]\n",
    "print(\"[test results]:\", eval_result)\n",
    "print(f'Persistence: {persistence_mae}') # Ok, so that's not great"
   ]
  },
  {
   "cell_type": "code",
   "execution_count": null,
   "metadata": {},
   "outputs": [],
   "source": [
    "model = hypermodel  # Get model (Sequential, Functional Model, or Model subclass)\n",
    "model\n",
    "model.save('trained_lstm_optimised')"
   ]
  }
 ],
 "metadata": {
  "kernelspec": {
   "display_name": "Python 3",
   "language": "python",
   "name": "python3"
  },
  "language_info": {
   "codemirror_mode": {
    "name": "ipython",
    "version": 3
   },
   "file_extension": ".py",
   "mimetype": "text/x-python",
   "name": "python",
   "nbconvert_exporter": "python",
   "pygments_lexer": "ipython3",
   "version": "3.9.11"
  },
  "orig_nbformat": 4
 },
 "nbformat": 4,
 "nbformat_minor": 2
}
