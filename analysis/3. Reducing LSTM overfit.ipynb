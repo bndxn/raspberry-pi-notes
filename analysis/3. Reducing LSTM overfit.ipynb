{
 "cells": [
  {
   "cell_type": "code",
   "execution_count": 1,
   "metadata": {},
   "outputs": [
    {
     "name": "stderr",
     "output_type": "stream",
     "text": [
      "2023-05-21 22:16:52.614416: I tensorflow/tsl/cuda/cudart_stub.cc:28] Could not find cuda drivers on your machine, GPU will not be used.\n",
      "2023-05-21 22:16:52.661072: I tensorflow/tsl/cuda/cudart_stub.cc:28] Could not find cuda drivers on your machine, GPU will not be used.\n",
      "2023-05-21 22:16:52.661918: I tensorflow/core/platform/cpu_feature_guard.cc:182] This TensorFlow binary is optimized to use available CPU instructions in performance-critical operations.\n",
      "To enable the following instructions: AVX2 FMA, in other operations, rebuild TensorFlow with the appropriate compiler flags.\n",
      "2023-05-21 22:16:53.609563: W tensorflow/compiler/tf2tensorrt/utils/py_utils.cc:38] TF-TRT Warning: Could not find TensorRT\n"
     ]
    }
   ],
   "source": [
    "from tensorflow import keras\n",
    "from keras.preprocessing.sequence import TimeseriesGenerator\n",
    "from keras import layers\n",
    "from sklearn.preprocessing import MinMaxScaler\n"
   ]
  },
  {
   "cell_type": "code",
   "execution_count": 2,
   "metadata": {},
   "outputs": [],
   "source": [
    "import logging\n",
    "logging.getLogger('tensorflow').setLevel(logging.ERROR)\n",
    "logging.getLogger('keras').setLevel(logging.ERROR)\n"
   ]
  },
  {
   "cell_type": "code",
   "execution_count": 3,
   "metadata": {},
   "outputs": [],
   "source": [
    "import numpy as np\n",
    "import pandas as pd\n",
    "import plotly.express as px\n",
    "import plotly.graph_objs as go\n",
    "import plotly.graph_objects as go\n",
    "from plotly.subplots import make_subplots\n",
    "import matplotlib.pyplot as plt\n",
    "import pickle \n",
    "\n"
   ]
  },
  {
   "cell_type": "code",
   "execution_count": 4,
   "metadata": {},
   "outputs": [],
   "source": [
    "df = pd.read_csv('ddb_output.csv')\n",
    "df.rename(columns={'humidity.S': 'humidity',\n",
    "                   'temperature.S':'temperature',\n",
    "                   'timestamp.S':'timestamp'},inplace=True)\n",
    "df.drop(columns=['Unnamed: 0'],inplace=True)\n",
    "#df.reset_index(drop=True,inplace=True)\n",
    "df.sort_values(by='timestamp',inplace=True)\n"
   ]
  },
  {
   "attachments": {},
   "cell_type": "markdown",
   "metadata": {},
   "source": [
    "### Baseline - persistence forecast 1,2,4 hours in advance"
   ]
  },
  {
   "cell_type": "code",
   "execution_count": 5,
   "metadata": {},
   "outputs": [],
   "source": [
    "df_temp =  df[ df['timestamp'] > str(pd.Timestamp('2023-04-28')) ].drop(columns=['humidity'])\n",
    "df_temp.reset_index(inplace=True,drop=True)\n",
    "\n",
    "df_temp['timestamp'] = df_temp['timestamp'].apply(lambda x: pd.to_datetime(x)) \n",
    "df_temp['timestamp'] = df_temp['timestamp'].dt.round('5min')\n",
    "\n",
    "df_temp.set_index('timestamp',inplace=True)\n",
    "df_temp.dropna(inplace=True)"
   ]
  },
  {
   "cell_type": "code",
   "execution_count": null,
   "metadata": {},
   "outputs": [],
   "source": []
  },
  {
   "cell_type": "code",
   "execution_count": 6,
   "metadata": {},
   "outputs": [],
   "source": [
    "# Split the data, 50% in training and 25% in validation, 25% in test, and not randomly selected since this is a time series\n",
    "\n",
    "scaler = MinMaxScaler()\n",
    "\n",
    "last_train_index = int(np.round(df_temp['temperature'].shape[0]*0.5))\n",
    "last_val_index = int(np.round(df_temp['temperature'].shape[0]*0.75))\n",
    "\n",
    "train_data = df_temp.iloc[:last_train_index,]\n",
    "validation_data = df_temp.iloc[last_train_index:last_val_index]\n",
    "test_data = df_temp.iloc[last_val_index:]\n",
    "\n",
    "# Fit to the train set, then transform the train set and the test set\n",
    "# TODO: Check, should not fit on test set?\n",
    "\n",
    "scaler.fit(train_data)\n",
    "scaled_train = scaler.transform(train_data)\n",
    "scaled_validation = scaler.transform(validation_data)\n",
    "scaled_test = scaler.transform(test_data)\n"
   ]
  },
  {
   "cell_type": "code",
   "execution_count": 7,
   "metadata": {},
   "outputs": [],
   "source": [
    "delay = 12\n",
    "sequence_length = 36\n",
    "\n",
    "train = keras.preprocessing.timeseries_dataset_from_array(scaled_train[:-delay], scaled_train[sequence_length+delay:], \n",
    "                            sequence_length=sequence_length, batch_size=1, shuffle=True)\n",
    "\n",
    "validation = keras.preprocessing.timeseries_dataset_from_array(scaled_validation[:-delay], scaled_validation[sequence_length+delay:], \n",
    "                            sequence_length=sequence_length, batch_size=1, shuffle=True)\n",
    "\n",
    "test = keras.preprocessing.timeseries_dataset_from_array(scaled_test[:-delay], scaled_test[sequence_length+delay:], \n",
    "                            sequence_length=sequence_length, batch_size=1, shuffle=True)\n",
    "\n",
    "\n"
   ]
  },
  {
   "cell_type": "code",
   "execution_count": 8,
   "metadata": {},
   "outputs": [
    {
     "name": "stdout",
     "output_type": "stream",
     "text": [
      "Epoch 1/10\n"
     ]
    },
    {
     "name": "stderr",
     "output_type": "stream",
     "text": [
      "2023-05-21 22:17:27.649402: I tensorflow/core/common_runtime/executor.cc:1197] [/device:CPU:0] (DEBUG INFO) Executor start aborting (this does not indicate an error and you can ignore this message): INVALID_ARGUMENT: You must feed a value for placeholder tensor 'gradients/split_2_grad/concat/split_2/split_dim' with dtype int32\n",
      "\t [[{{node gradients/split_2_grad/concat/split_2/split_dim}}]]\n",
      "2023-05-21 22:17:27.651997: I tensorflow/core/common_runtime/executor.cc:1197] [/device:CPU:0] (DEBUG INFO) Executor start aborting (this does not indicate an error and you can ignore this message): INVALID_ARGUMENT: You must feed a value for placeholder tensor 'gradients/split_grad/concat/split/split_dim' with dtype int32\n",
      "\t [[{{node gradients/split_grad/concat/split/split_dim}}]]\n",
      "2023-05-21 22:17:27.654189: I tensorflow/core/common_runtime/executor.cc:1197] [/device:CPU:0] (DEBUG INFO) Executor start aborting (this does not indicate an error and you can ignore this message): INVALID_ARGUMENT: You must feed a value for placeholder tensor 'gradients/split_1_grad/concat/split_1/split_dim' with dtype int32\n",
      "\t [[{{node gradients/split_1_grad/concat/split_1/split_dim}}]]\n",
      "2023-05-21 22:17:27.719050: I tensorflow/core/common_runtime/executor.cc:1197] [/device:CPU:0] (DEBUG INFO) Executor start aborting (this does not indicate an error and you can ignore this message): INVALID_ARGUMENT: You must feed a value for placeholder tensor 'Placeholder/_8' with dtype int32 and shape [998]\n",
      "\t [[{{node Placeholder/_8}}]]\n",
      "2023-05-21 22:17:27.719722: I tensorflow/core/common_runtime/executor.cc:1197] [/device:CPU:0] (DEBUG INFO) Executor start aborting (this does not indicate an error and you can ignore this message): INVALID_ARGUMENT: You must feed a value for placeholder tensor 'Placeholder/_0' with dtype double and shape [1034,1]\n",
      "\t [[{{node Placeholder/_0}}]]\n",
      "2023-05-21 22:17:28.052254: I tensorflow/core/common_runtime/executor.cc:1197] [/device:CPU:0] (DEBUG INFO) Executor start aborting (this does not indicate an error and you can ignore this message): INVALID_ARGUMENT: You must feed a value for placeholder tensor 'gradients/split_2_grad/concat/split_2/split_dim' with dtype int32\n",
      "\t [[{{node gradients/split_2_grad/concat/split_2/split_dim}}]]\n",
      "2023-05-21 22:17:28.054894: I tensorflow/core/common_runtime/executor.cc:1197] [/device:CPU:0] (DEBUG INFO) Executor start aborting (this does not indicate an error and you can ignore this message): INVALID_ARGUMENT: You must feed a value for placeholder tensor 'gradients/split_grad/concat/split/split_dim' with dtype int32\n",
      "\t [[{{node gradients/split_grad/concat/split/split_dim}}]]\n",
      "2023-05-21 22:17:28.057548: I tensorflow/core/common_runtime/executor.cc:1197] [/device:CPU:0] (DEBUG INFO) Executor start aborting (this does not indicate an error and you can ignore this message): INVALID_ARGUMENT: You must feed a value for placeholder tensor 'gradients/split_1_grad/concat/split_1/split_dim' with dtype int32\n",
      "\t [[{{node gradients/split_1_grad/concat/split_1/split_dim}}]]\n",
      "2023-05-21 22:17:28.953201: I tensorflow/core/common_runtime/executor.cc:1197] [/device:CPU:0] (DEBUG INFO) Executor start aborting (this does not indicate an error and you can ignore this message): INVALID_ARGUMENT: You must feed a value for placeholder tensor 'gradients/split_2_grad/concat/split_2/split_dim' with dtype int32\n",
      "\t [[{{node gradients/split_2_grad/concat/split_2/split_dim}}]]\n",
      "2023-05-21 22:17:28.954903: I tensorflow/core/common_runtime/executor.cc:1197] [/device:CPU:0] (DEBUG INFO) Executor start aborting (this does not indicate an error and you can ignore this message): INVALID_ARGUMENT: You must feed a value for placeholder tensor 'gradients/split_grad/concat/split/split_dim' with dtype int32\n",
      "\t [[{{node gradients/split_grad/concat/split/split_dim}}]]\n",
      "2023-05-21 22:17:28.956618: I tensorflow/core/common_runtime/executor.cc:1197] [/device:CPU:0] (DEBUG INFO) Executor start aborting (this does not indicate an error and you can ignore this message): INVALID_ARGUMENT: You must feed a value for placeholder tensor 'gradients/split_1_grad/concat/split_1/split_dim' with dtype int32\n",
      "\t [[{{node gradients/split_1_grad/concat/split_1/split_dim}}]]\n"
     ]
    },
    {
     "name": "stdout",
     "output_type": "stream",
     "text": [
      "995/998 [============================>.] - ETA: 0s - loss: 0.0162 - mae: 0.0667"
     ]
    },
    {
     "name": "stderr",
     "output_type": "stream",
     "text": [
      "2023-05-21 22:17:45.097311: I tensorflow/core/common_runtime/executor.cc:1197] [/device:CPU:0] (DEBUG INFO) Executor start aborting (this does not indicate an error and you can ignore this message): INVALID_ARGUMENT: You must feed a value for placeholder tensor 'Placeholder/_28' with dtype int32 and shape [475]\n",
      "\t [[{{node Placeholder/_28}}]]\n",
      "2023-05-21 22:17:45.098564: I tensorflow/core/common_runtime/executor.cc:1197] [/device:CPU:0] (DEBUG INFO) Executor start aborting (this does not indicate an error and you can ignore this message): INVALID_ARGUMENT: You must feed a value for placeholder tensor 'Placeholder/_0' with dtype double and shape [511,1]\n",
      "\t [[{{node Placeholder/_0}}]]\n",
      "2023-05-21 22:17:45.364048: I tensorflow/core/common_runtime/executor.cc:1197] [/device:CPU:0] (DEBUG INFO) Executor start aborting (this does not indicate an error and you can ignore this message): INVALID_ARGUMENT: You must feed a value for placeholder tensor 'gradients/split_2_grad/concat/split_2/split_dim' with dtype int32\n",
      "\t [[{{node gradients/split_2_grad/concat/split_2/split_dim}}]]\n",
      "2023-05-21 22:17:45.366043: I tensorflow/core/common_runtime/executor.cc:1197] [/device:CPU:0] (DEBUG INFO) Executor start aborting (this does not indicate an error and you can ignore this message): INVALID_ARGUMENT: You must feed a value for placeholder tensor 'gradients/split_grad/concat/split/split_dim' with dtype int32\n",
      "\t [[{{node gradients/split_grad/concat/split/split_dim}}]]\n",
      "2023-05-21 22:17:45.367343: I tensorflow/core/common_runtime/executor.cc:1197] [/device:CPU:0] (DEBUG INFO) Executor start aborting (this does not indicate an error and you can ignore this message): INVALID_ARGUMENT: You must feed a value for placeholder tensor 'gradients/split_1_grad/concat/split_1/split_dim' with dtype int32\n",
      "\t [[{{node gradients/split_1_grad/concat/split_1/split_dim}}]]\n"
     ]
    },
    {
     "name": "stdout",
     "output_type": "stream",
     "text": [
      "\n",
      "Epoch 1: val_loss improved from inf to 0.00699, saving model to model_checkpoint_early_stopping.h5\n",
      "998/998 [==============================] - 19s 17ms/step - loss: 0.0162 - mae: 0.0667 - val_loss: 0.0070 - val_mae: 0.0706\n",
      "Epoch 2/10\n",
      "998/998 [==============================] - ETA: 0s - loss: 0.0031 - mae: 0.0427\n",
      "Epoch 2: val_loss improved from 0.00699 to 0.00557, saving model to model_checkpoint_early_stopping.h5\n",
      "998/998 [==============================] - 14s 14ms/step - loss: 0.0031 - mae: 0.0427 - val_loss: 0.0056 - val_mae: 0.0605\n",
      "Epoch 3/10\n",
      "996/998 [============================>.] - ETA: 0s - loss: 0.0026 - mae: 0.0385\n",
      "Epoch 3: val_loss improved from 0.00557 to 0.00433, saving model to model_checkpoint_early_stopping.h5\n",
      "998/998 [==============================] - 14s 14ms/step - loss: 0.0026 - mae: 0.0386 - val_loss: 0.0043 - val_mae: 0.0537\n",
      "Epoch 4/10\n",
      "998/998 [==============================] - ETA: 0s - loss: 0.0023 - mae: 0.0358\n",
      "Epoch 4: val_loss improved from 0.00433 to 0.00370, saving model to model_checkpoint_early_stopping.h5\n",
      "998/998 [==============================] - 14s 14ms/step - loss: 0.0023 - mae: 0.0358 - val_loss: 0.0037 - val_mae: 0.0477\n",
      "Epoch 5/10\n",
      "998/998 [==============================] - ETA: 0s - loss: 0.0021 - mae: 0.0351\n",
      "Epoch 5: val_loss did not improve from 0.00370\n",
      "998/998 [==============================] - 14s 14ms/step - loss: 0.0021 - mae: 0.0351 - val_loss: 0.0040 - val_mae: 0.0479\n",
      "Epoch 6/10\n",
      "994/998 [============================>.] - ETA: 0s - loss: 0.0020 - mae: 0.0335\n",
      "Epoch 6: val_loss improved from 0.00370 to 0.00370, saving model to model_checkpoint_early_stopping.h5\n",
      "998/998 [==============================] - 13s 13ms/step - loss: 0.0020 - mae: 0.0335 - val_loss: 0.0037 - val_mae: 0.0463\n",
      "Epoch 7/10\n",
      "995/998 [============================>.] - ETA: 0s - loss: 0.0021 - mae: 0.0340\n",
      "Epoch 7: val_loss improved from 0.00370 to 0.00367, saving model to model_checkpoint_early_stopping.h5\n",
      "998/998 [==============================] - 17s 17ms/step - loss: 0.0021 - mae: 0.0340 - val_loss: 0.0037 - val_mae: 0.0463\n",
      "Epoch 8/10\n",
      "995/998 [============================>.] - ETA: 0s - loss: 0.0019 - mae: 0.0325\n",
      "Epoch 8: val_loss improved from 0.00367 to 0.00336, saving model to model_checkpoint_early_stopping.h5\n",
      "998/998 [==============================] - 12s 12ms/step - loss: 0.0019 - mae: 0.0325 - val_loss: 0.0034 - val_mae: 0.0445\n",
      "Epoch 9/10\n",
      "998/998 [==============================] - ETA: 0s - loss: 0.0018 - mae: 0.0321\n",
      "Epoch 9: val_loss improved from 0.00336 to 0.00317, saving model to model_checkpoint_early_stopping.h5\n",
      "998/998 [==============================] - 13s 13ms/step - loss: 0.0018 - mae: 0.0321 - val_loss: 0.0032 - val_mae: 0.0443\n",
      "Epoch 10/10\n",
      "994/998 [============================>.] - ETA: 0s - loss: 0.0018 - mae: 0.0318\n",
      "Epoch 10: val_loss improved from 0.00317 to 0.00291, saving model to model_checkpoint_early_stopping.h5\n",
      "998/998 [==============================] - 14s 14ms/step - loss: 0.0018 - mae: 0.0317 - val_loss: 0.0029 - val_mae: 0.0426\n"
     ]
    },
    {
     "data": {
      "image/png": "[encoded data removed]",
      "text/plain": [
       "<Figure size 640x480 with 1 Axes>"
      ]
     },
     "metadata": {},
     "output_type": "display_data"
    }
   ],
   "source": [
    "# See if early stopping does any better\n",
    "\n",
    "inputs = keras.Input(shape=(36, 1))\n",
    "\n",
    "x = layers.LSTM(16)(inputs)\n",
    "outputs = layers.Dense(1)(x)\n",
    "\n",
    "model = keras.Model(inputs, outputs)\n",
    "\n",
    "model.compile(optimizer=\"adam\", loss=\"mse\", metrics=[\"mae\"])\n",
    "\n",
    "path_checkpoint = f\"model_checkpoint_early_stopping.h5\"\n",
    "es_callback = keras.callbacks.EarlyStopping(monitor=\"val_loss\", min_delta=0, patience=5)\n",
    "\n",
    "modelckpt_callback = keras.callbacks.ModelCheckpoint(\n",
    "    monitor=\"val_loss\",\n",
    "    filepath=path_checkpoint,\n",
    "    verbose=1,\n",
    "    save_weights_only=True,\n",
    "    save_best_only=True,\n",
    "    )\n",
    "\n",
    "history = model.fit(train,\n",
    "                    epochs=10,\n",
    "                    validation_data=validation,\n",
    "                        callbacks=[es_callback, modelckpt_callback],\n",
    "                    )\n",
    "\n",
    "\n",
    "loss = history.history[\"mae\"]\n",
    "val_loss = history.history[\"val_mae\"]\n",
    "epochs = range(1, len(loss) + 1)\n",
    "\n",
    "persistence_mae = 0.0584\n",
    "\n",
    "plt.figure()\n",
    "plt.plot(epochs, loss, \"bo\", label=\"Training MAE\")\n",
    "plt.plot(epochs, val_loss, \"b\", label=\"Validation MAE\")\n",
    "plt.axhline(y=persistence_mae, color='r', linestyle='--', label='Persistence baseline')\n",
    "plt.title(f'Training and validation MAE - 16 LSTM units')\n",
    "plt.legend()\n",
    "plt.show()"
   ]
  },
  {
   "cell_type": "code",
   "execution_count": 9,
   "metadata": {},
   "outputs": [
    {
     "name": "stdout",
     "output_type": "stream",
     "text": [
      " 24/475 [>.............................] - ETA: 2s - loss: 0.0061 - mae: 0.0654"
     ]
    },
    {
     "name": "stderr",
     "output_type": "stream",
     "text": [
      "2023-05-21 22:21:33.330250: I tensorflow/core/common_runtime/executor.cc:1197] [/device:CPU:0] (DEBUG INFO) Executor start aborting (this does not indicate an error and you can ignore this message): INVALID_ARGUMENT: You must feed a value for placeholder tensor 'Placeholder/_20' with dtype double and shape [475,1]\n",
      "\t [[{{node Placeholder/_20}}]]\n",
      "2023-05-21 22:21:33.331654: I tensorflow/core/common_runtime/executor.cc:1197] [/device:CPU:0] (DEBUG INFO) Executor start aborting (this does not indicate an error and you can ignore this message): INVALID_ARGUMENT: You must feed a value for placeholder tensor 'Placeholder/_8' with dtype int32 and shape [475]\n",
      "\t [[{{node Placeholder/_8}}]]\n"
     ]
    },
    {
     "name": "stdout",
     "output_type": "stream",
     "text": [
      "475/475 [==============================] - 2s 3ms/step - loss: 0.0069 - mae: 0.0681\n",
      "[test results]: 0.06807822734117508\n",
      "Persistence: 0.0584\n"
     ]
    }
   ],
   "source": [
    "eval_result = model.evaluate(test)[1]\n",
    "print(\"[test results]:\", eval_result)\n",
    "print(f'Persistence: {persistence_mae}') # Ok, so that's not great"
   ]
  },
  {
   "cell_type": "code",
   "execution_count": 9,
   "metadata": {},
   "outputs": [],
   "source": [
    "import keras_tuner as kt"
   ]
  },
  {
   "cell_type": "code",
   "execution_count": 10,
   "metadata": {},
   "outputs": [],
   "source": [
    "def model_builder(hp):\n",
    "  hp_dropout = hp.Choice('dropout', values=[0.0, 0.1, 0.2, 0.3])\n",
    "  hp_recurrent_dropout = hp.Choice('recurrent_droput', values=[0.0, 0.1, 0.2, 0.3])\n",
    "   \n",
    "  inputs = keras.Input(shape=(36, 1))\n",
    "  x = layers.LSTM(16, \n",
    "                  dropout=hp_dropout, \n",
    "                  recurrent_dropout=hp_recurrent_dropout)(inputs)\n",
    "  outputs = layers.Dense(1)(x)\n",
    "\n",
    "  model = keras.Model(inputs, outputs)\n",
    "\n",
    "  model.compile(optimizer=\"adam\", loss=\"mse\", metrics=[\"mae\"])\n",
    "\n",
    "  return model\n"
   ]
  },
  {
   "cell_type": "code",
   "execution_count": 11,
   "metadata": {},
   "outputs": [
    {
     "name": "stdout",
     "output_type": "stream",
     "text": [
      "\n",
      "The hyperparameter search is complete. The optimal rate of dropout for the input\n",
      "layer is 0.0 and the rate of recurrent dropout \n",
      "is 0.0.\n",
      "\n"
     ]
    }
   ],
   "source": [
    "tuner = kt.Hyperband(model_builder,\n",
    "                objective='val_loss', # legacy version https://stackoverflow.com/questions/39883331/plotting-learning-curve-in-keras-gives-keyerror-val-acc ??\n",
    "                max_epochs=10,\n",
    "                factor=3,\n",
    "                directory='my_dir',\n",
    "                project_name='intro_to_kt')\n",
    "\n",
    "stop_early = keras.callbacks.EarlyStopping(monitor='val_loss', patience=5)\n",
    "\n",
    "tuner.search(train,epochs=10,validation_data=validation,\n",
    "                          callbacks=[stop_early])\n",
    "\n",
    "best_hps=tuner.get_best_hyperparameters(num_trials=1)[0]\n",
    "\n",
    "print(f\"\"\"\n",
    "The hyperparameter search is complete. The optimal rate of dropout for the input\n",
    "layer is {best_hps.get('dropout')} and the rate of recurrent dropout \n",
    "is {best_hps.get('learning_rate')}.\n",
    "\"\"\")"
   ]
  },
  {
   "cell_type": "code",
   "execution_count": 12,
   "metadata": {},
   "outputs": [
    {
     "name": "stdout",
     "output_type": "stream",
     "text": [
      "Epoch 1/50\n",
      "998/998 [==============================] - 5s 4ms/step - loss: 0.0066 - mae: 0.0548 - val_loss: 0.0060 - val_mae: 0.0645\n",
      "Epoch 2/50\n",
      "998/998 [==============================] - 4s 4ms/step - loss: 0.0029 - mae: 0.0419 - val_loss: 0.0050 - val_mae: 0.0583\n",
      "Epoch 3/50\n",
      "998/998 [==============================] - 4s 4ms/step - loss: 0.0026 - mae: 0.0380 - val_loss: 0.0055 - val_mae: 0.0583\n",
      "Epoch 4/50\n",
      "998/998 [==============================] - 4s 4ms/step - loss: 0.0022 - mae: 0.0362 - val_loss: 0.0034 - val_mae: 0.0475\n",
      "Epoch 5/50\n",
      "998/998 [==============================] - 4s 4ms/step - loss: 0.0020 - mae: 0.0340 - val_loss: 0.0031 - val_mae: 0.0423\n",
      "Epoch 6/50\n",
      "998/998 [==============================] - 4s 4ms/step - loss: 0.0019 - mae: 0.0331 - val_loss: 0.0030 - val_mae: 0.0440\n",
      "Epoch 7/50\n",
      "998/998 [==============================] - 4s 4ms/step - loss: 0.0018 - mae: 0.0319 - val_loss: 0.0029 - val_mae: 0.0422\n",
      "Epoch 8/50\n",
      "998/998 [==============================] - 4s 4ms/step - loss: 0.0018 - mae: 0.0322 - val_loss: 0.0029 - val_mae: 0.0411\n",
      "Epoch 9/50\n",
      "998/998 [==============================] - 4s 4ms/step - loss: 0.0018 - mae: 0.0311 - val_loss: 0.0029 - val_mae: 0.0415\n",
      "Epoch 10/50\n",
      "998/998 [==============================] - 4s 4ms/step - loss: 0.0018 - mae: 0.0314 - val_loss: 0.0030 - val_mae: 0.0445\n",
      "Epoch 11/50\n",
      "639/998 [==================>...........] - ETA: 1s - loss: 0.0016 - mae: 0.0303"
     ]
    },
    {
     "ename": "KeyboardInterrupt",
     "evalue": "",
     "output_type": "error",
     "traceback": [
      "\u001b[0;31m---------------------------------------------------------------------------\u001b[0m",
      "\u001b[0;31mKeyboardInterrupt\u001b[0m                         Traceback (most recent call last)",
      "Cell \u001b[0;32mIn[12], line 3\u001b[0m\n\u001b[1;32m      1\u001b[0m \u001b[39m# Build the model with the optimal hyperparameters and train it on the data for 50 epochs\u001b[39;00m\n\u001b[1;32m      2\u001b[0m model \u001b[39m=\u001b[39m tuner\u001b[39m.\u001b[39mhypermodel\u001b[39m.\u001b[39mbuild(best_hps)\n\u001b[0;32m----> 3\u001b[0m history \u001b[39m=\u001b[39m model\u001b[39m.\u001b[39;49mfit(train, epochs\u001b[39m=\u001b[39;49m\u001b[39m50\u001b[39;49m, validation_data\u001b[39m=\u001b[39;49mvalidation)\n\u001b[1;32m      5\u001b[0m val_loss_per_epoch \u001b[39m=\u001b[39m history\u001b[39m.\u001b[39mhistory[\u001b[39m'\u001b[39m\u001b[39mval_loss\u001b[39m\u001b[39m'\u001b[39m]\n",
      "File \u001b[0;32m~/.pyenv/versions/3.9.11/lib/python3.9/site-packages/keras/src/utils/traceback_utils.py:65\u001b[0m, in \u001b[0;36mfilter_traceback.<locals>.error_handler\u001b[0;34m(*args, **kwargs)\u001b[0m\n\u001b[1;32m     63\u001b[0m filtered_tb \u001b[39m=\u001b[39m \u001b[39mNone\u001b[39;00m\n\u001b[1;32m     64\u001b[0m \u001b[39mtry\u001b[39;00m:\n\u001b[0;32m---> 65\u001b[0m     \u001b[39mreturn\u001b[39;00m fn(\u001b[39m*\u001b[39;49margs, \u001b[39m*\u001b[39;49m\u001b[39m*\u001b[39;49mkwargs)\n\u001b[1;32m     66\u001b[0m \u001b[39mexcept\u001b[39;00m \u001b[39mException\u001b[39;00m \u001b[39mas\u001b[39;00m e:\n\u001b[1;32m     67\u001b[0m     filtered_tb \u001b[39m=\u001b[39m _process_traceback_frames(e\u001b[39m.\u001b[39m__traceback__)\n",
      "File \u001b[0;32m~/.pyenv/versions/3.9.11/lib/python3.9/site-packages/keras/src/engine/training.py:1742\u001b[0m, in \u001b[0;36mModel.fit\u001b[0;34m(self, x, y, batch_size, epochs, verbose, callbacks, validation_split, validation_data, shuffle, class_weight, sample_weight, initial_epoch, steps_per_epoch, validation_steps, validation_batch_size, validation_freq, max_queue_size, workers, use_multiprocessing)\u001b[0m\n\u001b[1;32m   1734\u001b[0m \u001b[39mwith\u001b[39;00m tf\u001b[39m.\u001b[39mprofiler\u001b[39m.\u001b[39mexperimental\u001b[39m.\u001b[39mTrace(\n\u001b[1;32m   1735\u001b[0m     \u001b[39m\"\u001b[39m\u001b[39mtrain\u001b[39m\u001b[39m\"\u001b[39m,\n\u001b[1;32m   1736\u001b[0m     epoch_num\u001b[39m=\u001b[39mepoch,\n\u001b[0;32m   (...)\u001b[0m\n\u001b[1;32m   1739\u001b[0m     _r\u001b[39m=\u001b[39m\u001b[39m1\u001b[39m,\n\u001b[1;32m   1740\u001b[0m ):\n\u001b[1;32m   1741\u001b[0m     callbacks\u001b[39m.\u001b[39mon_train_batch_begin(step)\n\u001b[0;32m-> 1742\u001b[0m     tmp_logs \u001b[39m=\u001b[39m \u001b[39mself\u001b[39;49m\u001b[39m.\u001b[39;49mtrain_function(iterator)\n\u001b[1;32m   1743\u001b[0m     \u001b[39mif\u001b[39;00m data_handler\u001b[39m.\u001b[39mshould_sync:\n\u001b[1;32m   1744\u001b[0m         context\u001b[39m.\u001b[39masync_wait()\n",
      "File \u001b[0;32m~/.pyenv/versions/3.9.11/lib/python3.9/site-packages/tensorflow/python/util/traceback_utils.py:150\u001b[0m, in \u001b[0;36mfilter_traceback.<locals>.error_handler\u001b[0;34m(*args, **kwargs)\u001b[0m\n\u001b[1;32m    148\u001b[0m filtered_tb \u001b[39m=\u001b[39m \u001b[39mNone\u001b[39;00m\n\u001b[1;32m    149\u001b[0m \u001b[39mtry\u001b[39;00m:\n\u001b[0;32m--> 150\u001b[0m   \u001b[39mreturn\u001b[39;00m fn(\u001b[39m*\u001b[39;49margs, \u001b[39m*\u001b[39;49m\u001b[39m*\u001b[39;49mkwargs)\n\u001b[1;32m    151\u001b[0m \u001b[39mexcept\u001b[39;00m \u001b[39mException\u001b[39;00m \u001b[39mas\u001b[39;00m e:\n\u001b[1;32m    152\u001b[0m   filtered_tb \u001b[39m=\u001b[39m _process_traceback_frames(e\u001b[39m.\u001b[39m__traceback__)\n",
      "File \u001b[0;32m~/.pyenv/versions/3.9.11/lib/python3.9/site-packages/tensorflow/python/eager/polymorphic_function/polymorphic_function.py:825\u001b[0m, in \u001b[0;36mFunction.__call__\u001b[0;34m(self, *args, **kwds)\u001b[0m\n\u001b[1;32m    822\u001b[0m compiler \u001b[39m=\u001b[39m \u001b[39m\"\u001b[39m\u001b[39mxla\u001b[39m\u001b[39m\"\u001b[39m \u001b[39mif\u001b[39;00m \u001b[39mself\u001b[39m\u001b[39m.\u001b[39m_jit_compile \u001b[39melse\u001b[39;00m \u001b[39m\"\u001b[39m\u001b[39mnonXla\u001b[39m\u001b[39m\"\u001b[39m\n\u001b[1;32m    824\u001b[0m \u001b[39mwith\u001b[39;00m OptionalXlaContext(\u001b[39mself\u001b[39m\u001b[39m.\u001b[39m_jit_compile):\n\u001b[0;32m--> 825\u001b[0m   result \u001b[39m=\u001b[39m \u001b[39mself\u001b[39;49m\u001b[39m.\u001b[39;49m_call(\u001b[39m*\u001b[39;49margs, \u001b[39m*\u001b[39;49m\u001b[39m*\u001b[39;49mkwds)\n\u001b[1;32m    827\u001b[0m new_tracing_count \u001b[39m=\u001b[39m \u001b[39mself\u001b[39m\u001b[39m.\u001b[39mexperimental_get_tracing_count()\n\u001b[1;32m    828\u001b[0m without_tracing \u001b[39m=\u001b[39m (tracing_count \u001b[39m==\u001b[39m new_tracing_count)\n",
      "File \u001b[0;32m~/.pyenv/versions/3.9.11/lib/python3.9/site-packages/tensorflow/python/eager/polymorphic_function/polymorphic_function.py:857\u001b[0m, in \u001b[0;36mFunction._call\u001b[0;34m(self, *args, **kwds)\u001b[0m\n\u001b[1;32m    854\u001b[0m   \u001b[39mself\u001b[39m\u001b[39m.\u001b[39m_lock\u001b[39m.\u001b[39mrelease()\n\u001b[1;32m    855\u001b[0m   \u001b[39m# In this case we have created variables on the first call, so we run the\u001b[39;00m\n\u001b[1;32m    856\u001b[0m   \u001b[39m# defunned version which is guaranteed to never create variables.\u001b[39;00m\n\u001b[0;32m--> 857\u001b[0m   \u001b[39mreturn\u001b[39;00m \u001b[39mself\u001b[39;49m\u001b[39m.\u001b[39;49m_no_variable_creation_fn(\u001b[39m*\u001b[39;49margs, \u001b[39m*\u001b[39;49m\u001b[39m*\u001b[39;49mkwds)  \u001b[39m# pylint: disable=not-callable\u001b[39;00m\n\u001b[1;32m    858\u001b[0m \u001b[39melif\u001b[39;00m \u001b[39mself\u001b[39m\u001b[39m.\u001b[39m_variable_creation_fn \u001b[39mis\u001b[39;00m \u001b[39mnot\u001b[39;00m \u001b[39mNone\u001b[39;00m:\n\u001b[1;32m    859\u001b[0m   \u001b[39m# Release the lock early so that multiple threads can perform the call\u001b[39;00m\n\u001b[1;32m    860\u001b[0m   \u001b[39m# in parallel.\u001b[39;00m\n\u001b[1;32m    861\u001b[0m   \u001b[39mself\u001b[39m\u001b[39m.\u001b[39m_lock\u001b[39m.\u001b[39mrelease()\n",
      "File \u001b[0;32m~/.pyenv/versions/3.9.11/lib/python3.9/site-packages/tensorflow/python/eager/polymorphic_function/tracing_compiler.py:148\u001b[0m, in \u001b[0;36mTracingCompiler.__call__\u001b[0;34m(self, *args, **kwargs)\u001b[0m\n\u001b[1;32m    145\u001b[0m \u001b[39mwith\u001b[39;00m \u001b[39mself\u001b[39m\u001b[39m.\u001b[39m_lock:\n\u001b[1;32m    146\u001b[0m   (concrete_function,\n\u001b[1;32m    147\u001b[0m    filtered_flat_args) \u001b[39m=\u001b[39m \u001b[39mself\u001b[39m\u001b[39m.\u001b[39m_maybe_define_function(args, kwargs)\n\u001b[0;32m--> 148\u001b[0m \u001b[39mreturn\u001b[39;00m concrete_function\u001b[39m.\u001b[39;49m_call_flat(\n\u001b[1;32m    149\u001b[0m     filtered_flat_args, captured_inputs\u001b[39m=\u001b[39;49mconcrete_function\u001b[39m.\u001b[39;49mcaptured_inputs)\n",
      "File \u001b[0;32m~/.pyenv/versions/3.9.11/lib/python3.9/site-packages/tensorflow/python/eager/polymorphic_function/monomorphic_function.py:1349\u001b[0m, in \u001b[0;36mConcreteFunction._call_flat\u001b[0;34m(self, args, captured_inputs)\u001b[0m\n\u001b[1;32m   1345\u001b[0m possible_gradient_type \u001b[39m=\u001b[39m gradients_util\u001b[39m.\u001b[39mPossibleTapeGradientTypes(args)\n\u001b[1;32m   1346\u001b[0m \u001b[39mif\u001b[39;00m (possible_gradient_type \u001b[39m==\u001b[39m gradients_util\u001b[39m.\u001b[39mPOSSIBLE_GRADIENT_TYPES_NONE\n\u001b[1;32m   1347\u001b[0m     \u001b[39mand\u001b[39;00m executing_eagerly):\n\u001b[1;32m   1348\u001b[0m   \u001b[39m# No tape is watching; skip to running the function.\u001b[39;00m\n\u001b[0;32m-> 1349\u001b[0m   \u001b[39mreturn\u001b[39;00m \u001b[39mself\u001b[39m\u001b[39m.\u001b[39m_build_call_outputs(\u001b[39mself\u001b[39;49m\u001b[39m.\u001b[39;49m_inference_function(\u001b[39m*\u001b[39;49margs))\n\u001b[1;32m   1350\u001b[0m forward_backward \u001b[39m=\u001b[39m \u001b[39mself\u001b[39m\u001b[39m.\u001b[39m_select_forward_and_backward_functions(\n\u001b[1;32m   1351\u001b[0m     args,\n\u001b[1;32m   1352\u001b[0m     possible_gradient_type,\n\u001b[1;32m   1353\u001b[0m     executing_eagerly)\n\u001b[1;32m   1354\u001b[0m forward_function, args_with_tangents \u001b[39m=\u001b[39m forward_backward\u001b[39m.\u001b[39mforward()\n",
      "File \u001b[0;32m~/.pyenv/versions/3.9.11/lib/python3.9/site-packages/tensorflow/python/eager/polymorphic_function/atomic_function.py:196\u001b[0m, in \u001b[0;36mAtomicFunction.__call__\u001b[0;34m(self, *args)\u001b[0m\n\u001b[1;32m    194\u001b[0m \u001b[39mwith\u001b[39;00m record\u001b[39m.\u001b[39mstop_recording():\n\u001b[1;32m    195\u001b[0m   \u001b[39mif\u001b[39;00m \u001b[39mself\u001b[39m\u001b[39m.\u001b[39m_bound_context\u001b[39m.\u001b[39mexecuting_eagerly():\n\u001b[0;32m--> 196\u001b[0m     outputs \u001b[39m=\u001b[39m \u001b[39mself\u001b[39;49m\u001b[39m.\u001b[39;49m_bound_context\u001b[39m.\u001b[39;49mcall_function(\n\u001b[1;32m    197\u001b[0m         \u001b[39mself\u001b[39;49m\u001b[39m.\u001b[39;49mname,\n\u001b[1;32m    198\u001b[0m         \u001b[39mlist\u001b[39;49m(args),\n\u001b[1;32m    199\u001b[0m         \u001b[39mlen\u001b[39;49m(\u001b[39mself\u001b[39;49m\u001b[39m.\u001b[39;49mfunction_type\u001b[39m.\u001b[39;49mflat_outputs),\n\u001b[1;32m    200\u001b[0m     )\n\u001b[1;32m    201\u001b[0m   \u001b[39melse\u001b[39;00m:\n\u001b[1;32m    202\u001b[0m     outputs \u001b[39m=\u001b[39m make_call_op_in_graph(\u001b[39mself\u001b[39m, \u001b[39mlist\u001b[39m(args))\n",
      "File \u001b[0;32m~/.pyenv/versions/3.9.11/lib/python3.9/site-packages/tensorflow/python/eager/context.py:1457\u001b[0m, in \u001b[0;36mContext.call_function\u001b[0;34m(self, name, tensor_inputs, num_outputs)\u001b[0m\n\u001b[1;32m   1455\u001b[0m cancellation_context \u001b[39m=\u001b[39m cancellation\u001b[39m.\u001b[39mcontext()\n\u001b[1;32m   1456\u001b[0m \u001b[39mif\u001b[39;00m cancellation_context \u001b[39mis\u001b[39;00m \u001b[39mNone\u001b[39;00m:\n\u001b[0;32m-> 1457\u001b[0m   outputs \u001b[39m=\u001b[39m execute\u001b[39m.\u001b[39;49mexecute(\n\u001b[1;32m   1458\u001b[0m       name\u001b[39m.\u001b[39;49mdecode(\u001b[39m\"\u001b[39;49m\u001b[39mutf-8\u001b[39;49m\u001b[39m\"\u001b[39;49m),\n\u001b[1;32m   1459\u001b[0m       num_outputs\u001b[39m=\u001b[39;49mnum_outputs,\n\u001b[1;32m   1460\u001b[0m       inputs\u001b[39m=\u001b[39;49mtensor_inputs,\n\u001b[1;32m   1461\u001b[0m       attrs\u001b[39m=\u001b[39;49mattrs,\n\u001b[1;32m   1462\u001b[0m       ctx\u001b[39m=\u001b[39;49m\u001b[39mself\u001b[39;49m,\n\u001b[1;32m   1463\u001b[0m   )\n\u001b[1;32m   1464\u001b[0m \u001b[39melse\u001b[39;00m:\n\u001b[1;32m   1465\u001b[0m   outputs \u001b[39m=\u001b[39m execute\u001b[39m.\u001b[39mexecute_with_cancellation(\n\u001b[1;32m   1466\u001b[0m       name\u001b[39m.\u001b[39mdecode(\u001b[39m\"\u001b[39m\u001b[39mutf-8\u001b[39m\u001b[39m\"\u001b[39m),\n\u001b[1;32m   1467\u001b[0m       num_outputs\u001b[39m=\u001b[39mnum_outputs,\n\u001b[0;32m   (...)\u001b[0m\n\u001b[1;32m   1471\u001b[0m       cancellation_manager\u001b[39m=\u001b[39mcancellation_context,\n\u001b[1;32m   1472\u001b[0m   )\n",
      "File \u001b[0;32m~/.pyenv/versions/3.9.11/lib/python3.9/site-packages/tensorflow/python/eager/execute.py:53\u001b[0m, in \u001b[0;36mquick_execute\u001b[0;34m(op_name, num_outputs, inputs, attrs, ctx, name)\u001b[0m\n\u001b[1;32m     51\u001b[0m \u001b[39mtry\u001b[39;00m:\n\u001b[1;32m     52\u001b[0m   ctx\u001b[39m.\u001b[39mensure_initialized()\n\u001b[0;32m---> 53\u001b[0m   tensors \u001b[39m=\u001b[39m pywrap_tfe\u001b[39m.\u001b[39;49mTFE_Py_Execute(ctx\u001b[39m.\u001b[39;49m_handle, device_name, op_name,\n\u001b[1;32m     54\u001b[0m                                       inputs, attrs, num_outputs)\n\u001b[1;32m     55\u001b[0m \u001b[39mexcept\u001b[39;00m core\u001b[39m.\u001b[39m_NotOkStatusException \u001b[39mas\u001b[39;00m e:\n\u001b[1;32m     56\u001b[0m   \u001b[39mif\u001b[39;00m name \u001b[39mis\u001b[39;00m \u001b[39mnot\u001b[39;00m \u001b[39mNone\u001b[39;00m:\n",
      "\u001b[0;31mKeyboardInterrupt\u001b[0m: "
     ]
    }
   ],
   "source": [
    "# Build the model with the optimal hyperparameters and train it on the data for 50 epochs\n",
    "model = tuner.hypermodel.build(best_hps)\n",
    "history = model.fit(train, epochs=50, validation_data=validation)\n",
    "\n",
    "val_loss_per_epoch = history.history['val_loss']"
   ]
  },
  {
   "cell_type": "code",
   "execution_count": null,
   "metadata": {},
   "outputs": [
    {
     "name": "stdout",
     "output_type": "stream",
     "text": [
      "Best epoch: 38\n"
     ]
    }
   ],
   "source": [
    "best_epoch = val_loss_per_epoch.index(min(val_loss_per_epoch)) + 1\n",
    "print('Best epoch: %d' % (best_epoch,))"
   ]
  },
  {
   "cell_type": "code",
   "execution_count": null,
   "metadata": {},
   "outputs": [
    {
     "name": "stdout",
     "output_type": "stream",
     "text": [
      "Epoch 1/38\n",
      "998/998 [==============================] - 5s 4ms/step - loss: 0.0091 - mae: 0.0570 - val_loss: 0.0063 - val_mae: 0.0647\n",
      "Epoch 2/38\n",
      "998/998 [==============================] - 4s 4ms/step - loss: 0.0030 - mae: 0.0417 - val_loss: 0.0063 - val_mae: 0.0637\n",
      "Epoch 3/38\n",
      "998/998 [==============================] - 4s 4ms/step - loss: 0.0026 - mae: 0.0386 - val_loss: 0.0054 - val_mae: 0.0583\n",
      "Epoch 4/38\n",
      "998/998 [==============================] - 4s 4ms/step - loss: 0.0023 - mae: 0.0360 - val_loss: 0.0054 - val_mae: 0.0573\n",
      "Epoch 5/38\n",
      "998/998 [==============================] - 4s 4ms/step - loss: 0.0021 - mae: 0.0348 - val_loss: 0.0039 - val_mae: 0.0485\n",
      "Epoch 6/38\n",
      "998/998 [==============================] - 4s 4ms/step - loss: 0.0021 - mae: 0.0340 - val_loss: 0.0066 - val_mae: 0.0650\n",
      "Epoch 7/38\n",
      "998/998 [==============================] - 4s 4ms/step - loss: 0.0019 - mae: 0.0329 - val_loss: 0.0056 - val_mae: 0.0583\n",
      "Epoch 8/38\n",
      "998/998 [==============================] - 4s 4ms/step - loss: 0.0019 - mae: 0.0332 - val_loss: 0.0039 - val_mae: 0.0481\n",
      "Epoch 9/38\n",
      "998/998 [==============================] - 4s 4ms/step - loss: 0.0018 - mae: 0.0317 - val_loss: 0.0044 - val_mae: 0.0510\n",
      "Epoch 10/38\n",
      "998/998 [==============================] - 4s 4ms/step - loss: 0.0018 - mae: 0.0314 - val_loss: 0.0044 - val_mae: 0.0509\n",
      "Epoch 11/38\n",
      "998/998 [==============================] - 4s 4ms/step - loss: 0.0018 - mae: 0.0324 - val_loss: 0.0033 - val_mae: 0.0440\n",
      "Epoch 12/38\n",
      "998/998 [==============================] - 4s 4ms/step - loss: 0.0017 - mae: 0.0312 - val_loss: 0.0045 - val_mae: 0.0512\n",
      "Epoch 13/38\n",
      "998/998 [==============================] - 4s 4ms/step - loss: 0.0017 - mae: 0.0313 - val_loss: 0.0040 - val_mae: 0.0489\n",
      "Epoch 14/38\n",
      "998/998 [==============================] - 4s 4ms/step - loss: 0.0016 - mae: 0.0306 - val_loss: 0.0043 - val_mae: 0.0502\n",
      "Epoch 15/38\n",
      "998/998 [==============================] - 4s 4ms/step - loss: 0.0017 - mae: 0.0313 - val_loss: 0.0036 - val_mae: 0.0463\n",
      "Epoch 16/38\n",
      "998/998 [==============================] - 4s 4ms/step - loss: 0.0017 - mae: 0.0309 - val_loss: 0.0038 - val_mae: 0.0474\n",
      "Epoch 17/38\n",
      "998/998 [==============================] - 4s 4ms/step - loss: 0.0017 - mae: 0.0307 - val_loss: 0.0029 - val_mae: 0.0416\n",
      "Epoch 18/38\n",
      "998/998 [==============================] - 4s 4ms/step - loss: 0.0017 - mae: 0.0310 - val_loss: 0.0036 - val_mae: 0.0458\n",
      "Epoch 19/38\n",
      "998/998 [==============================] - 4s 4ms/step - loss: 0.0017 - mae: 0.0310 - val_loss: 0.0046 - val_mae: 0.0525\n",
      "Epoch 20/38\n",
      "998/998 [==============================] - 5s 5ms/step - loss: 0.0016 - mae: 0.0303 - val_loss: 0.0043 - val_mae: 0.0503\n",
      "Epoch 21/38\n",
      "998/998 [==============================] - 4s 4ms/step - loss: 0.0016 - mae: 0.0303 - val_loss: 0.0038 - val_mae: 0.0472\n",
      "Epoch 22/38\n",
      "998/998 [==============================] - 4s 4ms/step - loss: 0.0016 - mae: 0.0298 - val_loss: 0.0031 - val_mae: 0.0427\n",
      "Epoch 23/38\n",
      "998/998 [==============================] - 4s 4ms/step - loss: 0.0016 - mae: 0.0299 - val_loss: 0.0036 - val_mae: 0.0458\n",
      "Epoch 24/38\n",
      "998/998 [==============================] - 4s 4ms/step - loss: 0.0016 - mae: 0.0302 - val_loss: 0.0027 - val_mae: 0.0411\n",
      "Epoch 25/38\n",
      "998/998 [==============================] - 4s 4ms/step - loss: 0.0016 - mae: 0.0296 - val_loss: 0.0035 - val_mae: 0.0457\n",
      "Epoch 26/38\n",
      "998/998 [==============================] - 4s 4ms/step - loss: 0.0016 - mae: 0.0299 - val_loss: 0.0035 - val_mae: 0.0453\n",
      "Epoch 27/38\n",
      "998/998 [==============================] - 4s 4ms/step - loss: 0.0016 - mae: 0.0297 - val_loss: 0.0028 - val_mae: 0.0408\n",
      "Epoch 28/38\n",
      "998/998 [==============================] - 4s 4ms/step - loss: 0.0016 - mae: 0.0300 - val_loss: 0.0032 - val_mae: 0.0432\n",
      "Epoch 29/38\n",
      "998/998 [==============================] - 4s 4ms/step - loss: 0.0016 - mae: 0.0294 - val_loss: 0.0028 - val_mae: 0.0408\n",
      "Epoch 30/38\n",
      "998/998 [==============================] - 4s 4ms/step - loss: 0.0016 - mae: 0.0298 - val_loss: 0.0029 - val_mae: 0.0416\n",
      "Epoch 31/38\n",
      "998/998 [==============================] - 4s 4ms/step - loss: 0.0015 - mae: 0.0291 - val_loss: 0.0033 - val_mae: 0.0438\n",
      "Epoch 32/38\n",
      "998/998 [==============================] - 4s 4ms/step - loss: 0.0016 - mae: 0.0291 - val_loss: 0.0034 - val_mae: 0.0448\n",
      "Epoch 33/38\n",
      "998/998 [==============================] - 4s 4ms/step - loss: 0.0016 - mae: 0.0291 - val_loss: 0.0032 - val_mae: 0.0436\n",
      "Epoch 34/38\n",
      "998/998 [==============================] - 4s 4ms/step - loss: 0.0015 - mae: 0.0288 - val_loss: 0.0028 - val_mae: 0.0415\n",
      "Epoch 35/38\n",
      "998/998 [==============================] - 4s 4ms/step - loss: 0.0016 - mae: 0.0290 - val_loss: 0.0033 - val_mae: 0.0441\n",
      "Epoch 36/38\n",
      "998/998 [==============================] - 4s 4ms/step - loss: 0.0015 - mae: 0.0288 - val_loss: 0.0028 - val_mae: 0.0412\n",
      "Epoch 37/38\n",
      "998/998 [==============================] - 4s 4ms/step - loss: 0.0015 - mae: 0.0283 - val_loss: 0.0031 - val_mae: 0.0429\n",
      "Epoch 38/38\n",
      "998/998 [==============================] - 4s 4ms/step - loss: 0.0015 - mae: 0.0280 - val_loss: 0.0027 - val_mae: 0.0412\n"
     ]
    },
    {
     "data": {
      "text/plain": [
       "<keras.src.callbacks.History at 0x2c77c8d90>"
      ]
     },
     "execution_count": 25,
     "metadata": {},
     "output_type": "execute_result"
    }
   ],
   "source": [
    "# Re-instantiate the hypermodel and train it with the optimal number of epochs from above.\n",
    "\n",
    "hypermodel = tuner.hypermodel.build(best_hps)\n",
    "\n",
    "hypermodel.fit(train, epochs=best_epoch, validation_data=validation)"
   ]
  },
  {
   "cell_type": "code",
   "execution_count": null,
   "metadata": {},
   "outputs": [
    {
     "name": "stdout",
     "output_type": "stream",
     "text": [
      "475/475 [==============================] - 1s 1ms/step - loss: 0.0068 - mae: 0.0656\n",
      "[test results]: 0.06557800620794296\n",
      "Persistence: 0.0584\n"
     ]
    }
   ],
   "source": [
    "eval_result = hypermodel.evaluate(test)[1]\n",
    "print(\"[test results]:\", eval_result)\n",
    "print(f'Persistence: {persistence_mae}') # Ok, so that's not great"
   ]
  },
  {
   "cell_type": "code",
   "execution_count": null,
   "metadata": {},
   "outputs": [],
   "source": [
    "model = hypermodel  # Get model (Sequential, Functional Model, or Model subclass)\n",
    "model\n",
    "model.save('trained_lstm_optimised')"
   ]
  }
 ],
 "metadata": {
  "kernelspec": {
   "display_name": "Python 3",
   "language": "python",
   "name": "python3"
  },
  "language_info": {
   "codemirror_mode": {
    "name": "ipython",
    "version": 3
   },
   "file_extension": ".py",
   "mimetype": "text/x-python",
   "name": "python",
   "nbconvert_exporter": "python",
   "pygments_lexer": "ipython3",
   "version": "3.9.11"
  },
  "orig_nbformat": 4
 },
 "nbformat": 4,
 "nbformat_minor": 2
}
