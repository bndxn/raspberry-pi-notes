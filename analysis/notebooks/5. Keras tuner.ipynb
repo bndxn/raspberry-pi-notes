{
 "cells": [
  {
   "cell_type": "code",
   "execution_count": 21,
   "metadata": {},
   "outputs": [],
   "source": [
    "import numpy as np\n",
    "import pandas as pd\n",
    "import plotly.express as px\n",
    "import plotly.graph_objs as go\n",
    "import plotly.graph_objects as go\n",
    "from plotly.subplots import make_subplots\n",
    "import matplotlib.pyplot as plt\n",
    "import pickle \n",
    "import tensorflow as tf\n",
    "from tensorflow import keras\n",
    "from keras.preprocessing.sequence import TimeseriesGenerator\n",
    "from keras import layers\n",
    "\n",
    "import keras_tuner as kt\n",
    "from keras_tuner.tuners import RandomSearch"
   ]
  },
  {
   "cell_type": "code",
   "execution_count": 2,
   "metadata": {},
   "outputs": [],
   "source": [
    "df = pd.read_csv('historic_readings_no_missing_data.csv'\n",
    "        ).drop(columns=['Unnamed: 0']\n",
    "        ).sort_values(by='timestamp')"
   ]
  },
  {
   "cell_type": "code",
   "execution_count": 3,
   "metadata": {},
   "outputs": [],
   "source": [
    "df.sort_values(by='timestamp', inplace=True)"
   ]
  },
  {
   "cell_type": "code",
   "execution_count": 4,
   "metadata": {},
   "outputs": [],
   "source": [
    "df_temp =  df[ df['timestamp'] > str(pd.Timestamp('2023-04-28')) ].drop(columns=['humidity'])\n",
    "df_temp.set_index('timestamp',inplace=True)\n",
    "df_temp.dropna(inplace=True)"
   ]
  },
  {
   "cell_type": "code",
   "execution_count": 28,
   "metadata": {},
   "outputs": [
    {
     "name": "stdout",
     "output_type": "stream",
     "text": [
      "Mean of training data: temperature    22.981637\n",
      "dtype: float64,\n",
      "Standard deviation of training data: temperature    2.30707\n",
      "dtype: float64\n"
     ]
    }
   ],
   "source": [
    "# Split the data, 60% in training and 20% in validation, 20% in test, and not randomly selected since this is a time series\n",
    "\n",
    "last_train_index = int(np.round(df_temp['temperature'].shape[0]*0.6))\n",
    "last_val_index = int(np.round(df_temp['temperature'].shape[0]*0.8))\n",
    "\n",
    "train_data = df_temp.iloc[:last_train_index,]\n",
    "validation_data = df_temp.iloc[last_train_index:last_val_index]\n",
    "test_data = df_temp.iloc[last_val_index:]\n",
    "\n",
    "# Fit to the train set, then transform the train set and the test set\n",
    "\n",
    "mean = train_data.mean(axis=0)\n",
    "train_data -= mean\n",
    "std = train_data.std(axis=0)\n",
    "scaled_train = train_data / std\n",
    "\n",
    "scaled_validation = (validation_data - mean)/std\n",
    "scaled_test = (test_data - mean)/std\n",
    "\n",
    "\n",
    "print(f'Mean of training data: {mean},'\n",
    "      f'\\nStandard deviation of training data: {std}')\n",
    "\n"
   ]
  },
  {
   "cell_type": "code",
   "execution_count": 6,
   "metadata": {},
   "outputs": [
    {
     "data": {
      "text/html": [
       "<div>\n",
       "<style scoped>\n",
       "    .dataframe tbody tr th:only-of-type {\n",
       "        vertical-align: middle;\n",
       "    }\n",
       "\n",
       "    .dataframe tbody tr th {\n",
       "        vertical-align: top;\n",
       "    }\n",
       "\n",
       "    .dataframe thead th {\n",
       "        text-align: right;\n",
       "    }\n",
       "</style>\n",
       "<table border=\"1\" class=\"dataframe\">\n",
       "  <thead>\n",
       "    <tr style=\"text-align: right;\">\n",
       "      <th></th>\n",
       "      <th>temperature</th>\n",
       "    </tr>\n",
       "    <tr>\n",
       "      <th>timestamp</th>\n",
       "      <th></th>\n",
       "    </tr>\n",
       "  </thead>\n",
       "  <tbody>\n",
       "    <tr>\n",
       "      <th>2023-05-01 00:10:00</th>\n",
       "      <td>-2.311637</td>\n",
       "    </tr>\n",
       "    <tr>\n",
       "      <th>2023-05-01 00:20:00</th>\n",
       "      <td>-2.271637</td>\n",
       "    </tr>\n",
       "    <tr>\n",
       "      <th>2023-05-01 00:30:00</th>\n",
       "      <td>-2.281637</td>\n",
       "    </tr>\n",
       "    <tr>\n",
       "      <th>2023-05-01 00:40:00</th>\n",
       "      <td>-2.351637</td>\n",
       "    </tr>\n",
       "    <tr>\n",
       "      <th>2023-05-01 00:50:00</th>\n",
       "      <td>-2.341637</td>\n",
       "    </tr>\n",
       "    <tr>\n",
       "      <th>...</th>\n",
       "      <td>...</td>\n",
       "    </tr>\n",
       "    <tr>\n",
       "      <th>2023-07-12 06:10:00</th>\n",
       "      <td>1.948363</td>\n",
       "    </tr>\n",
       "    <tr>\n",
       "      <th>2023-07-12 06:20:00</th>\n",
       "      <td>1.958363</td>\n",
       "    </tr>\n",
       "    <tr>\n",
       "      <th>2023-07-12 06:30:00</th>\n",
       "      <td>1.998363</td>\n",
       "    </tr>\n",
       "    <tr>\n",
       "      <th>2023-07-12 06:40:00</th>\n",
       "      <td>1.928363</td>\n",
       "    </tr>\n",
       "    <tr>\n",
       "      <th>2023-07-12 06:50:00</th>\n",
       "      <td>3.188363</td>\n",
       "    </tr>\n",
       "  </tbody>\n",
       "</table>\n",
       "<p>10002 rows × 1 columns</p>\n",
       "</div>"
      ],
      "text/plain": [
       "                     temperature\n",
       "timestamp                       \n",
       "2023-05-01 00:10:00    -2.311637\n",
       "2023-05-01 00:20:00    -2.271637\n",
       "2023-05-01 00:30:00    -2.281637\n",
       "2023-05-01 00:40:00    -2.351637\n",
       "2023-05-01 00:50:00    -2.341637\n",
       "...                          ...\n",
       "2023-07-12 06:10:00     1.948363\n",
       "2023-07-12 06:20:00     1.958363\n",
       "2023-07-12 06:30:00     1.998363\n",
       "2023-07-12 06:40:00     1.928363\n",
       "2023-07-12 06:50:00     3.188363\n",
       "\n",
       "[10002 rows x 1 columns]"
      ]
     },
     "execution_count": 6,
     "metadata": {},
     "output_type": "execute_result"
    }
   ],
   "source": [
    "train_data"
   ]
  },
  {
   "cell_type": "markdown",
   "metadata": {},
   "source": [
    "Creating the generators. The task will be to take in one hour of readings, spaced 10 minutes apart, and predict the temperature in two hours. \n",
    "\n",
    "For example, there will be readings at 3:00pm, 3:10pm, ..., 4:00pm, and the task will be to predict the temperature at 6pm. "
   ]
  },
  {
   "cell_type": "code",
   "execution_count": 8,
   "metadata": {},
   "outputs": [],
   "source": [
    "delay = 24\n",
    "sequence_length = 12"
   ]
  },
  {
   "cell_type": "markdown",
   "metadata": {},
   "source": [
    "This demonstrates how the generators will work, though they'll be randomly shuffled. "
   ]
  },
  {
   "cell_type": "code",
   "execution_count": 9,
   "metadata": {},
   "outputs": [],
   "source": [
    "train = keras.preprocessing.timeseries_dataset_from_array(scaled_train[:-delay], scaled_train[sequence_length+delay:], \n",
    "                            sequence_length=sequence_length, batch_size=1, shuffle=True)\n",
    "\n",
    "validation = keras.preprocessing.timeseries_dataset_from_array(scaled_validation[:-delay], scaled_validation[sequence_length+delay:], \n",
    "                            sequence_length=sequence_length, batch_size=1, shuffle=True)\n",
    "\n",
    "test = keras.preprocessing.timeseries_dataset_from_array(scaled_test[:-delay], scaled_test[sequence_length+delay:], \n",
    "                            sequence_length=sequence_length, batch_size=1, shuffle=True)"
   ]
  },
  {
   "cell_type": "markdown",
   "metadata": {},
   "source": [
    "### Hyperparameter tuning using Keras Tuner\n",
    "\n",
    "Pretty helpful page from the Tensorflow folks [here](https://www.tensorflow.org/tutorials/keras/keras_tuner). "
   ]
  },
  {
   "cell_type": "code",
   "execution_count": 17,
   "metadata": {},
   "outputs": [],
   "source": [
    "def model_builder(hp):\n",
    "\n",
    "    inputs = keras.Input(shape=(12, 1))\n",
    "\n",
    "    # Tune the number of units in the first Dense layer\n",
    "    hp_units = hp.Int('units', min_value=8, max_value=64, step=8)\n",
    "\n",
    "    x = layers.LSTM(hp_units, recurrent_dropout=0.25)(inputs)\n",
    "    outputs = layers.Dense(1)(x)\n",
    "\n",
    "    model = keras.Model(inputs, outputs)\n",
    "\n",
    "    model.compile(optimizer=\"adam\",\n",
    "                loss=\"mse\",\n",
    "                metrics=['mae'])\n",
    "\n",
    "    return model"
   ]
  },
  {
   "cell_type": "code",
   "execution_count": 19,
   "metadata": {},
   "outputs": [],
   "source": [
    "tuner = kt.Hyperband(model_builder,\n",
    "                     objective='val_mae',\n",
    "                     max_epochs=10,\n",
    "                     factor=3,\n",
    "                     directory='tuning_outputs/20230831',\n",
    "                     project_name='intro_to_kt')"
   ]
  },
  {
   "cell_type": "code",
   "execution_count": 22,
   "metadata": {},
   "outputs": [],
   "source": [
    "stop_early = tf.keras.callbacks.EarlyStopping(monitor='val_mae', patience=5)"
   ]
  },
  {
   "cell_type": "code",
   "execution_count": 27,
   "metadata": {},
   "outputs": [
    {
     "name": "stdout",
     "output_type": "stream",
     "text": [
      "Trial 8 Complete [00h 00m 42s]\n",
      "val_mae: 0.18314144015312195\n",
      "\n",
      "Best val_mae So Far: 0.17289999127388\n",
      "Total elapsed time: 00h 05m 43s\n",
      "\n",
      "The hyperparameter search is complete. The optimal number of units in the first densely-connected\n",
      "layer is 32.\n",
      "\n"
     ]
    }
   ],
   "source": [
    "tuner.search(train, epochs=50, validation_data=validation, callbacks=[stop_early])\n",
    "\n",
    "# Get the optimal hyperparameters\n",
    "best_hps=tuner.get_best_hyperparameters(num_trials=1)[0]\n",
    "\n",
    "print(f\"\"\"\n",
    "The hyperparameter search is complete. The optimal number of units in the first LSTM\n",
    "layer is {best_hps.get('units')}.\n",
    "\"\"\")"
   ]
  },
  {
   "cell_type": "code",
   "execution_count": null,
   "metadata": {},
   "outputs": [],
   "source": []
  }
 ],
 "metadata": {
  "kernelspec": {
   "display_name": "Python 3",
   "language": "python",
   "name": "python3"
  },
  "language_info": {
   "codemirror_mode": {
    "name": "ipython",
    "version": 3
   },
   "file_extension": ".py",
   "mimetype": "text/x-python",
   "name": "python",
   "nbconvert_exporter": "python",
   "pygments_lexer": "ipython3",
   "version": "3.9.11"
  },
  "orig_nbformat": 4
 },
 "nbformat": 4,
 "nbformat_minor": 2
}
