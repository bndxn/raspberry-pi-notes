{
 "cells": [
  {
   "cell_type": "code",
   "execution_count": 1,
   "metadata": {},
   "outputs": [],
   "source": [
    "import numpy as np\n",
    "import pandas as pd\n",
    "import matplotlib.pyplot as plt\n",
    "import pickle \n",
    "\n",
    "from tensorflow import keras\n",
    "from keras.preprocessing.sequence import TimeseriesGenerator\n",
    "from keras import layers\n",
    "\n",
    "\n",
    "import logging\n",
    "logging.getLogger('tensorflow').setLevel(logging.ERROR)\n",
    "logging.getLogger('keras').setLevel(logging.ERROR)\n"
   ]
  },
  {
   "cell_type": "code",
   "execution_count": 3,
   "metadata": {},
   "outputs": [],
   "source": [
    "df = pd.read_csv('analysis/historic_readings_no_missing_data.csv'\n",
    "        ).drop(columns=['Unnamed: 0']\n",
    "        ).sort_values(by='timestamp')"
   ]
  },
  {
   "cell_type": "markdown",
   "metadata": {},
   "source": [
    "Selecting only temperature data "
   ]
  },
  {
   "cell_type": "code",
   "execution_count": 4,
   "metadata": {},
   "outputs": [],
   "source": [
    "df.sort_values(by='timestamp', inplace=True)"
   ]
  },
  {
   "cell_type": "code",
   "execution_count": 5,
   "metadata": {},
   "outputs": [],
   "source": [
    "df_temp =  df[ df['timestamp'] > str(pd.Timestamp('2023-04-28')) ].drop(columns=['humidity'])\n",
    "\n",
    "df_temp.set_index('timestamp',inplace=True)\n",
    "df_temp.dropna(inplace=True)"
   ]
  },
  {
   "cell_type": "code",
   "execution_count": 6,
   "metadata": {},
   "outputs": [
    {
     "name": "stdout",
     "output_type": "stream",
     "text": [
      "Mean of training data: temperature    22.981637\n",
      "dtype: float64,\n",
      "Standard deviation of training data: temperature    2.30707\n",
      "dtype: float64\n"
     ]
    }
   ],
   "source": [
    "# Split the data, 60% in training and 20% in validation, 20% in test, and not randomly selected since this is a time series\n",
    "\n",
    "last_train_index = int(np.round(df_temp['temperature'].shape[0]*0.6))\n",
    "last_val_index = int(np.round(df_temp['temperature'].shape[0]*0.8))\n",
    "\n",
    "train_data = df_temp.iloc[:last_train_index,]\n",
    "validation_data = df_temp.iloc[last_train_index:last_val_index]\n",
    "test_data = df_temp.iloc[last_val_index:]\n",
    "\n",
    "# Fit to the train set, then transform the train set and the test set\n",
    "# TODO: Check, should not fit on test set?\n",
    "\n",
    "mean = train_data.mean(axis=0)\n",
    "train_data -= mean\n",
    "std = train_data.std(axis=0)\n",
    "scaled_train = train_data / std\n",
    "\n",
    "scaled_validation = (validation_data - mean)/std\n",
    "scaled_test = (test_data - mean)/std\n",
    "\n",
    "\n",
    "print(f'Mean of training data: {mean},'\n",
    "      f'\\nStandard deviation of training data: {std}')\n",
    "\n"
   ]
  },
  {
   "cell_type": "markdown",
   "metadata": {},
   "source": [
    "Creating the generators. The task will be to take in one hour of readings, spaced 10 minutes apart, and predict the temperature in two hours. \n",
    "\n",
    "For example, there will be readings at 3:00pm, 3:10pm, ..., 4:00pm, and the task will be to predict the temperature at 6pm. "
   ]
  },
  {
   "cell_type": "code",
   "execution_count": 7,
   "metadata": {},
   "outputs": [],
   "source": [
    "delay = 24\n",
    "sequence_length = 12"
   ]
  },
  {
   "cell_type": "code",
   "execution_count": 8,
   "metadata": {},
   "outputs": [
    {
     "name": "stdout",
     "output_type": "stream",
     "text": [
      "Input: [[ 0  1  2  3  4  5  6  7  8  9 10 11]], targets: [36]\n",
      "Input: [[ 1  2  3  4  5  6  7  8  9 10 11 12]], targets: [37]\n",
      "Input: [[ 2  3  4  5  6  7  8  9 10 11 12 13]], targets: [38]\n",
      "Input: [[ 3  4  5  6  7  8  9 10 11 12 13 14]], targets: [39]\n",
      "Input: [[ 4  5  6  7  8  9 10 11 12 13 14 15]], targets: [40]\n",
      "Input: [[ 5  6  7  8  9 10 11 12 13 14 15 16]], targets: [41]\n",
      "Input: [[ 6  7  8  9 10 11 12 13 14 15 16 17]], targets: [42]\n",
      "Input: [[ 7  8  9 10 11 12 13 14 15 16 17 18]], targets: [43]\n",
      "Input: [[ 8  9 10 11 12 13 14 15 16 17 18 19]], targets: [44]\n",
      "Input: [[ 9 10 11 12 13 14 15 16 17 18 19 20]], targets: [45]\n",
      "Input: [[10 11 12 13 14 15 16 17 18 19 20 21]], targets: [46]\n",
      "Input: [[11 12 13 14 15 16 17 18 19 20 21 22]], targets: [47]\n",
      "Input: [[12 13 14 15 16 17 18 19 20 21 22 23]], targets: [48]\n",
      "Input: [[13 14 15 16 17 18 19 20 21 22 23 24]], targets: [49]\n"
     ]
    },
    {
     "name": "stderr",
     "output_type": "stream",
     "text": [
      "2023-08-31 15:20:46.070018: I tensorflow/core/common_runtime/executor.cc:1210] [/device:CPU:0] (DEBUG INFO) Executor start aborting (this does not indicate an error and you can ignore this message): INVALID_ARGUMENT: You must feed a value for placeholder tensor 'Placeholder/_8' with dtype int32 and shape [14]\n",
      "\t [[{{node Placeholder/_8}}]]\n",
      "2023-08-31 15:20:46.070274: I tensorflow/core/common_runtime/executor.cc:1210] [/device:CPU:0] (DEBUG INFO) Executor start aborting (this does not indicate an error and you can ignore this message): INVALID_ARGUMENT: You must feed a value for placeholder tensor 'Placeholder/_28' with dtype int32 and shape [14]\n",
      "\t [[{{node Placeholder/_28}}]]\n"
     ]
    }
   ],
   "source": [
    "example_generator = keras.preprocessing.timeseries_dataset_from_array(np.arange(50)[:-delay], np.arange(50)[sequence_length+delay:],\n",
    "    sequence_length=sequence_length, batch_size=1, shuffle=False)\n",
    "    \n",
    "for inputs, targets in example_generator:\n",
    "    print(f'Input: {inputs}, targets: {targets}')"
   ]
  },
  {
   "cell_type": "code",
   "execution_count": 9,
   "metadata": {},
   "outputs": [],
   "source": [
    "train = keras.preprocessing.timeseries_dataset_from_array(scaled_train[:-delay], scaled_train[sequence_length+delay:], \n",
    "                            sequence_length=sequence_length, batch_size=1, shuffle=True)\n",
    "\n",
    "validation = keras.preprocessing.timeseries_dataset_from_array(scaled_validation[:-delay], scaled_validation[sequence_length+delay:], \n",
    "                            sequence_length=sequence_length, batch_size=1, shuffle=True)\n",
    "\n",
    "test = keras.preprocessing.timeseries_dataset_from_array(scaled_test[:-delay], scaled_test[sequence_length+delay:], \n",
    "                            sequence_length=sequence_length, batch_size=1, shuffle=True)"
   ]
  },
  {
   "cell_type": "markdown",
   "metadata": {},
   "source": [
    "### Baseline persistence forecast\n",
    "\n",
    "We define a baseline persistence forecast. This simply the average MAE. "
   ]
  },
  {
   "cell_type": "code",
   "execution_count": 12,
   "metadata": {},
   "outputs": [
    {
     "name": "stderr",
     "output_type": "stream",
     "text": [
      "2023-08-31 15:37:27.348967: I tensorflow/core/common_runtime/executor.cc:1210] [/device:CPU:0] (DEBUG INFO) Executor start aborting (this does not indicate an error and you can ignore this message): INVALID_ARGUMENT: You must feed a value for placeholder tensor 'Placeholder/_13' with dtype int32\n",
      "\t [[{{node Placeholder/_13}}]]\n",
      "2023-08-31 15:37:27.349492: I tensorflow/core/common_runtime/executor.cc:1210] [/device:CPU:0] (DEBUG INFO) Executor start aborting (this does not indicate an error and you can ignore this message): INVALID_ARGUMENT: You must feed a value for placeholder tensor 'Placeholder/_20' with dtype double and shape [3298,1]\n",
      "\t [[{{node Placeholder/_20}}]]\n"
     ]
    },
    {
     "name": "stdout",
     "output_type": "stream",
     "text": [
      "Baseline: persistence forecast for 2 hours - MAE: 19.66%\n"
     ]
    }
   ],
   "source": [
    "def evalute_naive_method(dataset):\n",
    "\n",
    "    total_abs_err = 0\n",
    "    predictions = 0\n",
    "\n",
    "    for inputs, targets in dataset:\n",
    "        \n",
    "        # We take the last value from the input tensor\n",
    "        preds = inputs[:, -1]\n",
    "        total_abs_err += np.sum(np.abs(preds-targets))\n",
    "        predictions += 1\n",
    "\n",
    "    return total_abs_err / predictions\n",
    "\n",
    "persistence_mae = evalute_naive_method(test) \n",
    "\n",
    "print(f'Baseline: persistence forecast for 2 hours - MAE: {persistence_mae*100:.2f}%')"
   ]
  },
  {
   "attachments": {},
   "cell_type": "markdown",
   "metadata": {},
   "source": [
    "### First LSTM model"
   ]
  },
  {
   "cell_type": "code",
   "execution_count": 79,
   "metadata": {},
   "outputs": [
    {
     "name": "stdout",
     "output_type": "stream",
     "text": [
      "Epoch 1/5\n"
     ]
    },
    {
     "name": "stderr",
     "output_type": "stream",
     "text": [
      "2023-08-31 12:10:12.671246: I tensorflow/core/common_runtime/executor.cc:1210] [/device:CPU:0] (DEBUG INFO) Executor start aborting (this does not indicate an error and you can ignore this message): INVALID_ARGUMENT: You must feed a value for placeholder tensor 'Placeholder/_0' with dtype double and shape [9978,1]\n",
      "\t [[{{node Placeholder/_0}}]]\n",
      "2023-08-31 12:10:12.671556: I tensorflow/core/common_runtime/executor.cc:1210] [/device:CPU:0] (DEBUG INFO) Executor start aborting (this does not indicate an error and you can ignore this message): INVALID_ARGUMENT: You must feed a value for placeholder tensor 'Placeholder/_0' with dtype double and shape [9978,1]\n",
      "\t [[{{node Placeholder/_0}}]]\n"
     ]
    },
    {
     "name": "stdout",
     "output_type": "stream",
     "text": [
      "9940/9966 [============================>.] - ETA: 0s - loss: 0.0963 - mae: 0.2401"
     ]
    },
    {
     "name": "stderr",
     "output_type": "stream",
     "text": [
      "2023-08-31 12:10:30.559827: I tensorflow/core/common_runtime/executor.cc:1210] [/device:CPU:0] (DEBUG INFO) Executor start aborting (this does not indicate an error and you can ignore this message): INVALID_ARGUMENT: You must feed a value for placeholder tensor 'Placeholder/_14' with dtype int32\n",
      "\t [[{{node Placeholder/_14}}]]\n",
      "2023-08-31 12:10:30.560142: I tensorflow/core/common_runtime/executor.cc:1210] [/device:CPU:0] (DEBUG INFO) Executor start aborting (this does not indicate an error and you can ignore this message): INVALID_ARGUMENT: You must feed a value for placeholder tensor 'Placeholder/_28' with dtype int32 and shape [3298]\n",
      "\t [[{{node Placeholder/_28}}]]\n"
     ]
    },
    {
     "name": "stdout",
     "output_type": "stream",
     "text": [
      "9966/9966 [==============================] - 20s 2ms/step - loss: 0.0963 - mae: 0.2401 - val_loss: 0.0495 - val_mae: 0.1757\n",
      "Epoch 2/5\n",
      "9966/9966 [==============================] - 19s 2ms/step - loss: 0.0730 - mae: 0.2077 - val_loss: 0.0465 - val_mae: 0.1646\n",
      "Epoch 3/5\n",
      "9966/9966 [==============================] - 22s 2ms/step - loss: 0.0687 - mae: 0.2005 - val_loss: 0.0455 - val_mae: 0.1614\n",
      "Epoch 4/5\n",
      "9966/9966 [==============================] - 20s 2ms/step - loss: 0.0664 - mae: 0.1950 - val_loss: 0.0441 - val_mae: 0.1587\n",
      "Epoch 5/5\n",
      "9966/9966 [==============================] - 19s 2ms/step - loss: 0.0646 - mae: 0.1904 - val_loss: 0.0434 - val_mae: 0.1573\n"
     ]
    }
   ],
   "source": [
    "inputs = keras.Input(shape=(12, 1))\n",
    "\n",
    "x = layers.LSTM(12)(inputs)\n",
    "outputs = layers.Dense(1)(x)\n",
    "\n",
    "model = keras.Model(inputs, outputs)\n",
    "\n",
    "model.compile(optimizer=\"adam\", loss=\"mse\", metrics=[\"mae\"])\n",
    "history = model.fit(train,\n",
    "                    epochs=5,\n",
    "                    validation_data=validation)\n",
    "\n",
    "\n",
    "loss = history.history[\"mae\"]\n",
    "val_loss = history.history[\"val_mae\"]\n",
    "epochs = range(1, len(loss) + 1)\n",
    "\n"
   ]
  },
  {
   "cell_type": "code",
   "execution_count": 80,
   "metadata": {},
   "outputs": [
    {
     "data": {
      "image/png": "[encoded data removed]",
      "text/plain": [
       "<Figure size 640x480 with 1 Axes>"
      ]
     },
     "metadata": {},
     "output_type": "display_data"
    }
   ],
   "source": [
    "plt.figure()\n",
    "plt.plot(epochs, loss, \"bo\", label=\"Training MAE\")\n",
    "plt.plot(epochs, val_loss, \"b\", label=\"Validation MAE\")\n",
    "plt.axhline(y=persistence_mae, color='r', linestyle='--', label='Persistence baseline')\n",
    "plt.title(f'Training and validation MAE - 16 LSTM units')\n",
    "plt.legend()\n",
    "plt.show()"
   ]
  },
  {
   "cell_type": "code",
   "execution_count": 86,
   "metadata": {},
   "outputs": [
    {
     "name": "stdout",
     "output_type": "stream",
     "text": [
      "3298/3298 [==============================] - 2s 595us/step - loss: 0.0457 - mae: 0.1788\n"
     ]
    },
    {
     "data": {
      "text/plain": [
       "[0.04567280411720276, 0.17875972390174866]"
      ]
     },
     "execution_count": 86,
     "metadata": {},
     "output_type": "execute_result"
    }
   ],
   "source": [
    "model.evaluate(test)"
   ]
  },
  {
   "cell_type": "markdown",
   "metadata": {},
   "source": [
    "### Using dropout to fight overfitting"
   ]
  },
  {
   "cell_type": "code",
   "execution_count": 10,
   "metadata": {},
   "outputs": [
    {
     "name": "stdout",
     "output_type": "stream",
     "text": [
      "Epoch 1/30\n"
     ]
    },
    {
     "name": "stderr",
     "output_type": "stream",
     "text": [
      "2023-08-31 15:21:04.267890: I tensorflow/core/common_runtime/executor.cc:1210] [/device:CPU:0] (DEBUG INFO) Executor start aborting (this does not indicate an error and you can ignore this message): INVALID_ARGUMENT: You must feed a value for placeholder tensor 'Placeholder/_20' with dtype double and shape [9966,1]\n",
      "\t [[{{node Placeholder/_20}}]]\n",
      "2023-08-31 15:21:04.268334: I tensorflow/core/common_runtime/executor.cc:1210] [/device:CPU:0] (DEBUG INFO) Executor start aborting (this does not indicate an error and you can ignore this message): INVALID_ARGUMENT: You must feed a value for placeholder tensor 'Placeholder/_20' with dtype double and shape [9966,1]\n",
      "\t [[{{node Placeholder/_20}}]]\n"
     ]
    },
    {
     "name": "stdout",
     "output_type": "stream",
     "text": [
      "9957/9966 [============================>.] - ETA: 0s - loss: 0.0997 - mae: 0.2434"
     ]
    },
    {
     "name": "stderr",
     "output_type": "stream",
     "text": [
      "2023-08-31 15:21:33.552501: I tensorflow/core/common_runtime/executor.cc:1210] [/device:CPU:0] (DEBUG INFO) Executor start aborting (this does not indicate an error and you can ignore this message): INVALID_ARGUMENT: You must feed a value for placeholder tensor 'Placeholder/_8' with dtype int32 and shape [3298]\n",
      "\t [[{{node Placeholder/_8}}]]\n",
      "2023-08-31 15:21:33.552808: I tensorflow/core/common_runtime/executor.cc:1210] [/device:CPU:0] (DEBUG INFO) Executor start aborting (this does not indicate an error and you can ignore this message): INVALID_ARGUMENT: You must feed a value for placeholder tensor 'Placeholder/_13' with dtype int32\n",
      "\t [[{{node Placeholder/_13}}]]\n"
     ]
    },
    {
     "name": "stdout",
     "output_type": "stream",
     "text": [
      "9966/9966 [==============================] - 31s 3ms/step - loss: 0.0997 - mae: 0.2433 - val_loss: 0.0560 - val_mae: 0.1860\n",
      "Epoch 2/30\n",
      "9966/9966 [==============================] - 30s 3ms/step - loss: 0.0884 - mae: 0.2301 - val_loss: 0.0625 - val_mae: 0.1979\n",
      "Epoch 3/30\n",
      "9966/9966 [==============================] - 30s 3ms/step - loss: 0.0852 - mae: 0.2268 - val_loss: 0.0667 - val_mae: 0.2058\n",
      "Epoch 4/30\n",
      "9966/9966 [==============================] - 31s 3ms/step - loss: 0.0837 - mae: 0.2240 - val_loss: 0.0649 - val_mae: 0.2037\n",
      "Epoch 5/30\n",
      "9966/9966 [==============================] - 31s 3ms/step - loss: 0.0828 - mae: 0.2219 - val_loss: 0.0587 - val_mae: 0.1929\n",
      "Epoch 6/30\n",
      "9966/9966 [==============================] - 31s 3ms/step - loss: 0.0806 - mae: 0.2199 - val_loss: 0.0574 - val_mae: 0.1908\n",
      "Epoch 7/30\n",
      "9966/9966 [==============================] - 31s 3ms/step - loss: 0.0787 - mae: 0.2175 - val_loss: 0.0615 - val_mae: 0.1971\n",
      "Epoch 8/30\n",
      "9966/9966 [==============================] - 31s 3ms/step - loss: 0.0772 - mae: 0.2152 - val_loss: 0.0563 - val_mae: 0.1900\n",
      "Epoch 9/30\n",
      "9966/9966 [==============================] - 30s 3ms/step - loss: 0.0758 - mae: 0.2129 - val_loss: 0.0595 - val_mae: 0.1929\n",
      "Epoch 10/30\n",
      "9966/9966 [==============================] - 31s 3ms/step - loss: 0.0750 - mae: 0.2115 - val_loss: 0.0649 - val_mae: 0.2019\n",
      "Epoch 11/30\n",
      "9966/9966 [==============================] - 30s 3ms/step - loss: 0.0744 - mae: 0.2108 - val_loss: 0.0603 - val_mae: 0.1935\n",
      "Epoch 12/30\n",
      "9966/9966 [==============================] - 30s 3ms/step - loss: 0.0734 - mae: 0.2092 - val_loss: 0.0532 - val_mae: 0.1806\n",
      "Epoch 13/30\n",
      "9966/9966 [==============================] - 30s 3ms/step - loss: 0.0721 - mae: 0.2068 - val_loss: 0.0549 - val_mae: 0.1831\n",
      "Epoch 14/30\n",
      "9966/9966 [==============================] - 30s 3ms/step - loss: 0.0718 - mae: 0.2068 - val_loss: 0.0566 - val_mae: 0.1877\n",
      "Epoch 15/30\n",
      "9966/9966 [==============================] - 30s 3ms/step - loss: 0.0711 - mae: 0.2058 - val_loss: 0.0531 - val_mae: 0.1812\n",
      "Epoch 16/30\n",
      "9966/9966 [==============================] - 30s 3ms/step - loss: 0.0710 - mae: 0.2060 - val_loss: 0.0567 - val_mae: 0.1847\n",
      "Epoch 17/30\n",
      "9966/9966 [==============================] - 31s 3ms/step - loss: 0.0703 - mae: 0.2041 - val_loss: 0.0566 - val_mae: 0.1869\n",
      "Epoch 18/30\n",
      "9966/9966 [==============================] - 31s 3ms/step - loss: 0.0701 - mae: 0.2039 - val_loss: 0.0603 - val_mae: 0.1934\n",
      "Epoch 19/30\n",
      "9966/9966 [==============================] - 31s 3ms/step - loss: 0.0696 - mae: 0.2033 - val_loss: 0.0643 - val_mae: 0.2007\n",
      "Epoch 20/30\n",
      "9966/9966 [==============================] - 31s 3ms/step - loss: 0.0694 - mae: 0.2031 - val_loss: 0.0639 - val_mae: 0.1993\n",
      "Epoch 21/30\n",
      "9966/9966 [==============================] - 31s 3ms/step - loss: 0.0688 - mae: 0.2019 - val_loss: 0.0588 - val_mae: 0.1910\n",
      "Epoch 22/30\n",
      "9966/9966 [==============================] - 31s 3ms/step - loss: 0.0687 - mae: 0.2019 - val_loss: 0.0533 - val_mae: 0.1813\n",
      "Epoch 23/30\n",
      "9966/9966 [==============================] - 31s 3ms/step - loss: 0.0677 - mae: 0.2005 - val_loss: 0.0684 - val_mae: 0.2094\n",
      "Epoch 24/30\n",
      "9966/9966 [==============================] - 31s 3ms/step - loss: 0.0677 - mae: 0.2002 - val_loss: 0.0592 - val_mae: 0.1927\n",
      "Epoch 25/30\n",
      "9966/9966 [==============================] - 31s 3ms/step - loss: 0.0673 - mae: 0.1997 - val_loss: 0.0606 - val_mae: 0.1945\n",
      "Epoch 26/30\n",
      "9966/9966 [==============================] - 31s 3ms/step - loss: 0.0671 - mae: 0.1990 - val_loss: 0.0580 - val_mae: 0.1896\n",
      "Epoch 27/30\n",
      "9966/9966 [==============================] - 31s 3ms/step - loss: 0.0665 - mae: 0.1982 - val_loss: 0.0571 - val_mae: 0.1889\n",
      "Epoch 28/30\n",
      "9966/9966 [==============================] - 31s 3ms/step - loss: 0.0658 - mae: 0.1971 - val_loss: 0.0578 - val_mae: 0.1897\n",
      "Epoch 29/30\n",
      "9966/9966 [==============================] - 31s 3ms/step - loss: 0.0654 - mae: 0.1959 - val_loss: 0.0551 - val_mae: 0.1843\n",
      "Epoch 30/30\n",
      "9966/9966 [==============================] - 31s 3ms/step - loss: 0.0651 - mae: 0.1950 - val_loss: 0.0576 - val_mae: 0.1901\n"
     ]
    }
   ],
   "source": [
    "inputs = keras.Input(shape=(12, 1))\n",
    "\n",
    "x = layers.LSTM(16, recurrent_dropout=0.25)(inputs)\n",
    "outputs = layers.Dense(1)(x)\n",
    "\n",
    "model = keras.Model(inputs, outputs)\n",
    "\n",
    "model.compile(optimizer=\"adam\", loss=\"mse\", metrics=[\"mae\"])\n",
    "history = model.fit(train,\n",
    "                    epochs=30,\n",
    "                    validation_data=validation)\n",
    "\n",
    "\n",
    "loss = history.history[\"mae\"]\n",
    "val_loss = history.history[\"val_mae\"]\n",
    "epochs = range(1, len(loss) + 1)"
   ]
  },
  {
   "cell_type": "code",
   "execution_count": 13,
   "metadata": {},
   "outputs": [
    {
     "data": {
      "text/plain": [
       "0.19658639424505697"
      ]
     },
     "execution_count": 13,
     "metadata": {},
     "output_type": "execute_result"
    }
   ],
   "source": [
    "persistence_mae"
   ]
  },
  {
   "cell_type": "code",
   "execution_count": 14,
   "metadata": {},
   "outputs": [
    {
     "data": {
      "image/png": "[encoded data removed]",
      "text/plain": [
       "<Figure size 640x480 with 1 Axes>"
      ]
     },
     "metadata": {},
     "output_type": "display_data"
    }
   ],
   "source": [
    "plt.figure()\n",
    "plt.plot(epochs, loss, \"bo\", label=\"Training MAE\")\n",
    "plt.plot(epochs, val_loss, \"b\", label=\"Validation MAE\")\n",
    "plt.axhline(y=persistence_mae, color='r', linestyle='--', label='Persistence baseline')\n",
    "plt.title(f'Training and validation MAE - 16 LSTM units')\n",
    "plt.legend()\n",
    "plt.show()"
   ]
  },
  {
   "cell_type": "code",
   "execution_count": 15,
   "metadata": {},
   "outputs": [
    {
     "name": "stdout",
     "output_type": "stream",
     "text": [
      "3298/3298 [==============================] - 2s 695us/step - loss: 0.0482 - mae: 0.1788\n"
     ]
    },
    {
     "data": {
      "text/plain": [
       "[0.048175279051065445, 0.1788160502910614]"
      ]
     },
     "execution_count": 15,
     "metadata": {},
     "output_type": "execute_result"
    }
   ],
   "source": [
    "model.evaluate(test)"
   ]
  },
  {
   "cell_type": "markdown",
   "metadata": {},
   "source": [
    "We have a model which outperforms the baseline and the non-dropout LSTM. "
   ]
  },
  {
   "cell_type": "code",
   "execution_count": 18,
   "metadata": {},
   "outputs": [
    {
     "name": "stdout",
     "output_type": "stream",
     "text": [
      "temperature    2.30707\n",
      "dtype: float64\n",
      "temperature    22.981637\n",
      "dtype: float64\n"
     ]
    },
    {
     "name": "stderr",
     "output_type": "stream",
     "text": [
      "/Users/dixonb01/.pyenv/versions/3.9.11/lib/python3.9/site-packages/keras/src/engine/training.py:3000: UserWarning: You are saving your model as an HDF5 file via `model.save()`. This file format is considered legacy. We recommend using instead the native Keras format, e.g. `model.save('my_model.keras')`.\n",
      "  saving_api.save_model(\n"
     ]
    }
   ],
   "source": [
    "# Ok let's just deploy \n",
    "\n",
    "# TF Lite prefers the saved model format: https://www.tensorflow.org/lite/models/convert\n",
    "# But normal saving prefers the .keras format https://www.tensorflow.org/guide/keras/serialization_and_saving\n",
    "# And there's a bug with M1/M2 macs! https://github.com/keras-team/keras/issues/18278 \n",
    "\n",
    "\n",
    "model.save('saved_models/regularised_lstm.keras')\n",
    "model.save('saved_models/regularised_lstm_saved_model_format', save_format='tf')\n",
    "model.save('saved_models/regularised_lstm_h5.h5', save_format='h5')\n",
    "\n",
    "\n",
    "print(std)\n",
    "print(mean)"
   ]
  },
  {
   "cell_type": "code",
   "execution_count": null,
   "metadata": {},
   "outputs": [],
   "source": []
  }
 ],
 "metadata": {
  "kernelspec": {
   "display_name": "Python 3",
   "language": "python",
   "name": "python3"
  },
  "language_info": {
   "codemirror_mode": {
    "name": "ipython",
    "version": 3
   },
   "file_extension": ".py",
   "mimetype": "text/x-python",
   "name": "python",
   "nbconvert_exporter": "python",
   "pygments_lexer": "ipython3",
   "version": "3.10.12"
  },
  "orig_nbformat": 4
 },
 "nbformat": 4,
 "nbformat_minor": 2
}
