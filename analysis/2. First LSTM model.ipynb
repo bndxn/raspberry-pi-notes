{
 "cells": [
  {
   "cell_type": "code",
   "execution_count": 14,
   "metadata": {},
   "outputs": [],
   "source": [
    "from tensorflow import keras\n",
    "from keras.preprocessing.sequence import TimeseriesGenerator\n",
    "from keras import layers\n",
    "from sklearn.preprocessing import MinMaxScaler\n"
   ]
  },
  {
   "cell_type": "code",
   "execution_count": 3,
   "metadata": {},
   "outputs": [],
   "source": [
    "import logging\n",
    "logging.getLogger('tensorflow').setLevel(logging.ERROR)\n",
    "logging.getLogger('keras').setLevel(logging.ERROR)\n"
   ]
  },
  {
   "cell_type": "code",
   "execution_count": 4,
   "metadata": {},
   "outputs": [],
   "source": [
    "import numpy as np\n",
    "import pandas as pd\n",
    "import plotly.express as px\n",
    "import plotly.graph_objs as go\n",
    "import plotly.graph_objects as go\n",
    "from plotly.subplots import make_subplots\n",
    "import matplotlib.pyplot as plt\n",
    "import pickle \n",
    "\n"
   ]
  },
  {
   "cell_type": "code",
   "execution_count": 5,
   "metadata": {},
   "outputs": [
    {
     "data": {
      "text/html": [
       "<div>\n",
       "<style scoped>\n",
       "    .dataframe tbody tr th:only-of-type {\n",
       "        vertical-align: middle;\n",
       "    }\n",
       "\n",
       "    .dataframe tbody tr th {\n",
       "        vertical-align: top;\n",
       "    }\n",
       "\n",
       "    .dataframe thead th {\n",
       "        text-align: right;\n",
       "    }\n",
       "</style>\n",
       "<table border=\"1\" class=\"dataframe\">\n",
       "  <thead>\n",
       "    <tr style=\"text-align: right;\">\n",
       "      <th></th>\n",
       "      <th>humidity</th>\n",
       "      <th>temperature</th>\n",
       "      <th>timestamp</th>\n",
       "    </tr>\n",
       "  </thead>\n",
       "  <tbody>\n",
       "    <tr>\n",
       "      <th>0</th>\n",
       "      <td>54.00</td>\n",
       "      <td>18.04</td>\n",
       "      <td>2023-04-21 12:36:04.168213</td>\n",
       "    </tr>\n",
       "    <tr>\n",
       "      <th>1</th>\n",
       "      <td>54.00</td>\n",
       "      <td>18.13</td>\n",
       "      <td>2023-04-21 12:36:07.120651</td>\n",
       "    </tr>\n",
       "    <tr>\n",
       "      <th>2</th>\n",
       "      <td>54.00</td>\n",
       "      <td>18.01</td>\n",
       "      <td>2023-04-21 12:36:10.007948</td>\n",
       "    </tr>\n",
       "    <tr>\n",
       "      <th>3</th>\n",
       "      <td>54.00</td>\n",
       "      <td>18.09</td>\n",
       "      <td>2023-04-21 12:36:12.959915</td>\n",
       "    </tr>\n",
       "    <tr>\n",
       "      <th>4</th>\n",
       "      <td>52.00</td>\n",
       "      <td>18.08</td>\n",
       "      <td>2023-04-21 15:48:08.632782</td>\n",
       "    </tr>\n",
       "    <tr>\n",
       "      <th>...</th>\n",
       "      <td>...</td>\n",
       "      <td>...</td>\n",
       "      <td>...</td>\n",
       "    </tr>\n",
       "    <tr>\n",
       "      <th>3041</th>\n",
       "      <td>56.35</td>\n",
       "      <td>21.63</td>\n",
       "      <td>2023-05-10 20:30:04.178828</td>\n",
       "    </tr>\n",
       "    <tr>\n",
       "      <th>3042</th>\n",
       "      <td>56.91</td>\n",
       "      <td>21.57</td>\n",
       "      <td>2023-05-10 20:40:04.682990</td>\n",
       "    </tr>\n",
       "    <tr>\n",
       "      <th>3043</th>\n",
       "      <td>56.72</td>\n",
       "      <td>21.54</td>\n",
       "      <td>2023-05-10 20:50:04.106947</td>\n",
       "    </tr>\n",
       "    <tr>\n",
       "      <th>3044</th>\n",
       "      <td>56.77</td>\n",
       "      <td>21.50</td>\n",
       "      <td>2023-05-10 21:00:04.586745</td>\n",
       "    </tr>\n",
       "    <tr>\n",
       "      <th>3045</th>\n",
       "      <td>56.65</td>\n",
       "      <td>21.54</td>\n",
       "      <td>2023-05-10 21:10:04.077091</td>\n",
       "    </tr>\n",
       "  </tbody>\n",
       "</table>\n",
       "<p>3046 rows × 3 columns</p>\n",
       "</div>"
      ],
      "text/plain": [
       "      humidity  temperature                   timestamp\n",
       "0        54.00        18.04  2023-04-21 12:36:04.168213\n",
       "1        54.00        18.13  2023-04-21 12:36:07.120651\n",
       "2        54.00        18.01  2023-04-21 12:36:10.007948\n",
       "3        54.00        18.09  2023-04-21 12:36:12.959915\n",
       "4        52.00        18.08  2023-04-21 15:48:08.632782\n",
       "...        ...          ...                         ...\n",
       "3041     56.35        21.63  2023-05-10 20:30:04.178828\n",
       "3042     56.91        21.57  2023-05-10 20:40:04.682990\n",
       "3043     56.72        21.54  2023-05-10 20:50:04.106947\n",
       "3044     56.77        21.50  2023-05-10 21:00:04.586745\n",
       "3045     56.65        21.54  2023-05-10 21:10:04.077091\n",
       "\n",
       "[3046 rows x 3 columns]"
      ]
     },
     "execution_count": 5,
     "metadata": {},
     "output_type": "execute_result"
    }
   ],
   "source": [
    "df = pd.read_csv('ddb_output.csv')\n",
    "df.rename(columns={'humidity.S': 'humidity',\n",
    "                   'temperature.S':'temperature',\n",
    "                   'timestamp.S':'timestamp'},inplace=True)\n",
    "df.drop(columns=['Unnamed: 0'],inplace=True)\n",
    "#df.reset_index(drop=True,inplace=True)\n",
    "df.sort_values(by='timestamp',inplace=True)\n",
    "df"
   ]
  },
  {
   "attachments": {},
   "cell_type": "markdown",
   "metadata": {},
   "source": [
    "## Building a forecasting model "
   ]
  },
  {
   "cell_type": "code",
   "execution_count": 7,
   "metadata": {},
   "outputs": [
    {
     "data": {
      "text/html": [
       "<div>\n",
       "<style scoped>\n",
       "    .dataframe tbody tr th:only-of-type {\n",
       "        vertical-align: middle;\n",
       "    }\n",
       "\n",
       "    .dataframe tbody tr th {\n",
       "        vertical-align: top;\n",
       "    }\n",
       "\n",
       "    .dataframe thead th {\n",
       "        text-align: right;\n",
       "    }\n",
       "</style>\n",
       "<table border=\"1\" class=\"dataframe\">\n",
       "  <thead>\n",
       "    <tr style=\"text-align: right;\">\n",
       "      <th></th>\n",
       "      <th>temperature</th>\n",
       "      <th>timestamp</th>\n",
       "    </tr>\n",
       "  </thead>\n",
       "  <tbody>\n",
       "    <tr>\n",
       "      <th>0</th>\n",
       "      <td>17.83</td>\n",
       "      <td>2023-04-28 08:25:00</td>\n",
       "    </tr>\n",
       "    <tr>\n",
       "      <th>1</th>\n",
       "      <td>17.85</td>\n",
       "      <td>2023-04-28 08:25:00</td>\n",
       "    </tr>\n",
       "    <tr>\n",
       "      <th>2</th>\n",
       "      <td>17.85</td>\n",
       "      <td>2023-04-28 08:30:00</td>\n",
       "    </tr>\n",
       "    <tr>\n",
       "      <th>3</th>\n",
       "      <td>17.88</td>\n",
       "      <td>2023-04-28 08:30:00</td>\n",
       "    </tr>\n",
       "    <tr>\n",
       "      <th>4</th>\n",
       "      <td>17.88</td>\n",
       "      <td>2023-04-28 09:20:00</td>\n",
       "    </tr>\n",
       "  </tbody>\n",
       "</table>\n",
       "</div>"
      ],
      "text/plain": [
       "   temperature           timestamp\n",
       "0        17.83 2023-04-28 08:25:00\n",
       "1        17.85 2023-04-28 08:25:00\n",
       "2        17.85 2023-04-28 08:30:00\n",
       "3        17.88 2023-04-28 08:30:00\n",
       "4        17.88 2023-04-28 09:20:00"
      ]
     },
     "execution_count": 7,
     "metadata": {},
     "output_type": "execute_result"
    }
   ],
   "source": [
    "df_temp =  df[ df['timestamp'] > str(pd.Timestamp('2023-04-28')) ].drop(columns=['humidity'])\n",
    "df_temp.reset_index(inplace=True,drop=True)\n",
    "\n",
    "df_temp['timestamp'] = df_temp['timestamp'].apply(lambda x: pd.Timestamp(x)) \n",
    "\n",
    "df_temp['timestamp'] = df_temp['timestamp'].dt.round('5min')\n",
    "df_temp.head()"
   ]
  },
  {
   "attachments": {},
   "cell_type": "markdown",
   "metadata": {},
   "source": [
    "### Baseline - persistence forecast 1,2,4 hours in advance"
   ]
  },
  {
   "cell_type": "code",
   "execution_count": 8,
   "metadata": {},
   "outputs": [],
   "source": [
    "# Test - to predict temperature 1,2,4 hours in advance\n",
    "\n",
    "def persistence_n_hours(n):\n",
    "\n",
    "    timestamps_n_hr = df_temp['timestamp'].apply(lambda x: pd.Timestamp(x) + pd.Timedelta(hours=n))\n",
    "\n",
    "    df_temp_n_hr_baseline = pd.DataFrame(list(zip(timestamps_n_hr,df_temp['temperature'])))\n",
    "    df_temp_n_hr_baseline.rename(columns={0:'timestamp', 1:'value'},inplace=True)\n",
    "    df_temp_n_hr_baseline['type'] = f'persist. {n}hrs'\n",
    "    df_temp_n_hr_baseline = df_temp_n_hr_baseline[['value', 'timestamp', 'type']]\n",
    "    df_temp_n_hr_baseline\n",
    "\n",
    "    return df_temp_n_hr_baseline\n",
    "\n",
    "persist_1_hr = persistence_n_hours(1)\n",
    "persist_2_hr = persistence_n_hours(2)\n",
    "persist_4_hr = persistence_n_hours(4)\n"
   ]
  },
  {
   "cell_type": "code",
   "execution_count": 12,
   "metadata": {},
   "outputs": [
    {
     "data": {
      "text/html": [
       "<div>\n",
       "<style scoped>\n",
       "    .dataframe tbody tr th:only-of-type {\n",
       "        vertical-align: middle;\n",
       "    }\n",
       "\n",
       "    .dataframe tbody tr th {\n",
       "        vertical-align: top;\n",
       "    }\n",
       "\n",
       "    .dataframe thead th {\n",
       "        text-align: right;\n",
       "    }\n",
       "</style>\n",
       "<table border=\"1\" class=\"dataframe\">\n",
       "  <thead>\n",
       "    <tr style=\"text-align: right;\">\n",
       "      <th></th>\n",
       "      <th>value</th>\n",
       "      <th>type</th>\n",
       "    </tr>\n",
       "    <tr>\n",
       "      <th>timestamp</th>\n",
       "      <th></th>\n",
       "      <th></th>\n",
       "    </tr>\n",
       "  </thead>\n",
       "  <tbody>\n",
       "    <tr>\n",
       "      <th>2023-04-28 08:25:00</th>\n",
       "      <td>17.83</td>\n",
       "      <td>observation</td>\n",
       "    </tr>\n",
       "    <tr>\n",
       "      <th>2023-04-28 08:25:00</th>\n",
       "      <td>17.85</td>\n",
       "      <td>observation</td>\n",
       "    </tr>\n",
       "    <tr>\n",
       "      <th>2023-04-28 08:30:00</th>\n",
       "      <td>17.85</td>\n",
       "      <td>observation</td>\n",
       "    </tr>\n",
       "    <tr>\n",
       "      <th>2023-04-28 08:30:00</th>\n",
       "      <td>17.88</td>\n",
       "      <td>observation</td>\n",
       "    </tr>\n",
       "    <tr>\n",
       "      <th>2023-04-28 09:20:00</th>\n",
       "      <td>17.88</td>\n",
       "      <td>observation</td>\n",
       "    </tr>\n",
       "    <tr>\n",
       "      <th>...</th>\n",
       "      <td>...</td>\n",
       "      <td>...</td>\n",
       "    </tr>\n",
       "    <tr>\n",
       "      <th>2023-05-10 20:30:00</th>\n",
       "      <td>21.63</td>\n",
       "      <td>observation</td>\n",
       "    </tr>\n",
       "    <tr>\n",
       "      <th>2023-05-10 20:40:00</th>\n",
       "      <td>21.57</td>\n",
       "      <td>observation</td>\n",
       "    </tr>\n",
       "    <tr>\n",
       "      <th>2023-05-10 20:50:00</th>\n",
       "      <td>21.54</td>\n",
       "      <td>observation</td>\n",
       "    </tr>\n",
       "    <tr>\n",
       "      <th>2023-05-10 21:00:00</th>\n",
       "      <td>21.50</td>\n",
       "      <td>observation</td>\n",
       "    </tr>\n",
       "    <tr>\n",
       "      <th>2023-05-10 21:10:00</th>\n",
       "      <td>21.54</td>\n",
       "      <td>observation</td>\n",
       "    </tr>\n",
       "  </tbody>\n",
       "</table>\n",
       "<p>2092 rows × 2 columns</p>\n",
       "</div>"
      ],
      "text/plain": [
       "                     value         type\n",
       "timestamp                              \n",
       "2023-04-28 08:25:00  17.83  observation\n",
       "2023-04-28 08:25:00  17.85  observation\n",
       "2023-04-28 08:30:00  17.85  observation\n",
       "2023-04-28 08:30:00  17.88  observation\n",
       "2023-04-28 09:20:00  17.88  observation\n",
       "...                    ...          ...\n",
       "2023-05-10 20:30:00  21.63  observation\n",
       "2023-05-10 20:40:00  21.57  observation\n",
       "2023-05-10 20:50:00  21.54  observation\n",
       "2023-05-10 21:00:00  21.50  observation\n",
       "2023-05-10 21:10:00  21.54  observation\n",
       "\n",
       "[2092 rows x 2 columns]"
      ]
     },
     "execution_count": 12,
     "metadata": {},
     "output_type": "execute_result"
    }
   ],
   "source": [
    "df_temp['type'] = 'observation'\n",
    "df_temp.rename(columns={'temperature':'value'},inplace=True)\n",
    "df_temp"
   ]
  },
  {
   "cell_type": "code",
   "execution_count": 17,
   "metadata": {},
   "outputs": [
    {
     "data": {
      "text/html": [
       "<div>\n",
       "<style scoped>\n",
       "    .dataframe tbody tr th:only-of-type {\n",
       "        vertical-align: middle;\n",
       "    }\n",
       "\n",
       "    .dataframe tbody tr th {\n",
       "        vertical-align: top;\n",
       "    }\n",
       "\n",
       "    .dataframe thead th {\n",
       "        text-align: right;\n",
       "    }\n",
       "</style>\n",
       "<table border=\"1\" class=\"dataframe\">\n",
       "  <thead>\n",
       "    <tr style=\"text-align: right;\">\n",
       "      <th></th>\n",
       "      <th>temperature</th>\n",
       "    </tr>\n",
       "    <tr>\n",
       "      <th>timestamp</th>\n",
       "      <th></th>\n",
       "    </tr>\n",
       "  </thead>\n",
       "  <tbody>\n",
       "    <tr>\n",
       "      <th>2023-04-28 08:25:00</th>\n",
       "      <td>17.83</td>\n",
       "    </tr>\n",
       "    <tr>\n",
       "      <th>2023-04-28 08:25:00</th>\n",
       "      <td>17.85</td>\n",
       "    </tr>\n",
       "    <tr>\n",
       "      <th>2023-04-28 08:30:00</th>\n",
       "      <td>17.85</td>\n",
       "    </tr>\n",
       "    <tr>\n",
       "      <th>2023-04-28 08:30:00</th>\n",
       "      <td>17.88</td>\n",
       "    </tr>\n",
       "    <tr>\n",
       "      <th>2023-04-28 09:20:00</th>\n",
       "      <td>17.88</td>\n",
       "    </tr>\n",
       "    <tr>\n",
       "      <th>...</th>\n",
       "      <td>...</td>\n",
       "    </tr>\n",
       "    <tr>\n",
       "      <th>2023-05-10 20:30:00</th>\n",
       "      <td>21.63</td>\n",
       "    </tr>\n",
       "    <tr>\n",
       "      <th>2023-05-10 20:40:00</th>\n",
       "      <td>21.57</td>\n",
       "    </tr>\n",
       "    <tr>\n",
       "      <th>2023-05-10 20:50:00</th>\n",
       "      <td>21.54</td>\n",
       "    </tr>\n",
       "    <tr>\n",
       "      <th>2023-05-10 21:00:00</th>\n",
       "      <td>21.50</td>\n",
       "    </tr>\n",
       "    <tr>\n",
       "      <th>2023-05-10 21:10:00</th>\n",
       "      <td>21.54</td>\n",
       "    </tr>\n",
       "  </tbody>\n",
       "</table>\n",
       "<p>2092 rows × 1 columns</p>\n",
       "</div>"
      ],
      "text/plain": [
       "                     temperature\n",
       "timestamp                       \n",
       "2023-04-28 08:25:00        17.83\n",
       "2023-04-28 08:25:00        17.85\n",
       "2023-04-28 08:30:00        17.85\n",
       "2023-04-28 08:30:00        17.88\n",
       "2023-04-28 09:20:00        17.88\n",
       "...                          ...\n",
       "2023-05-10 20:30:00        21.63\n",
       "2023-05-10 20:40:00        21.57\n",
       "2023-05-10 20:50:00        21.54\n",
       "2023-05-10 21:00:00        21.50\n",
       "2023-05-10 21:10:00        21.54\n",
       "\n",
       "[2092 rows x 1 columns]"
      ]
     },
     "execution_count": 17,
     "metadata": {},
     "output_type": "execute_result"
    }
   ],
   "source": [
    "df_temp =  df[ df['timestamp'] > str(pd.Timestamp('2023-04-28')) ].drop(columns=['humidity'])\n",
    "df_temp.reset_index(inplace=True,drop=True)\n",
    "\n",
    "df_temp['timestamp'] = df_temp['timestamp'].apply(lambda x: pd.to_datetime(x)) \n",
    "\n",
    "df_temp['timestamp'] = df_temp['timestamp'].dt.round('5min')\n",
    "\n",
    "df_temp['timestamp'] = df_temp['timestamp'].apply(lambda x: pd.to_datetime(x)) \n",
    "\n",
    "df_temp.set_index('timestamp',inplace=True)\n",
    "df_temp"
   ]
  },
  {
   "cell_type": "code",
   "execution_count": 13,
   "metadata": {},
   "outputs": [],
   "source": [
    "df_temp.dropna(inplace=True)\n",
    "\n",
    "# Some quick code to set this up: https://github.com/nachi-hebbar/Time-Series-Forecasting-LSTM"
   ]
  },
  {
   "cell_type": "code",
   "execution_count": 25,
   "metadata": {},
   "outputs": [],
   "source": []
  },
  {
   "cell_type": "code",
   "execution_count": 18,
   "metadata": {},
   "outputs": [],
   "source": [
    "# Split the data, 50% in training and 25% in validation, 25% in test, and not randomly selected since this is a time series\n",
    "\n",
    "scaler = MinMaxScaler()\n",
    "\n",
    "last_train_index = int(np.round(df_temp['temperature'].shape[0]*0.5))\n",
    "last_val_index = int(np.round(df_temp['temperature'].shape[0]*0.75))\n",
    "\n",
    "train_data = df_temp.iloc[:last_train_index,]\n",
    "validation_data = df_temp.iloc[last_train_index:last_val_index]\n",
    "test_data = df_temp.iloc[last_val_index:]\n",
    "\n",
    "# Fit to the train set, then transform the train set and the test set\n",
    "# TODO: Check, should not fit on test set?\n",
    "\n",
    "scaler.fit(train_data)\n",
    "scaled_train = scaler.transform(train_data)\n",
    "scaled_validation = scaler.transform(validation_data)\n",
    "scaled_test = scaler.transform(test_data)\n"
   ]
  },
  {
   "cell_type": "code",
   "execution_count": 19,
   "metadata": {},
   "outputs": [],
   "source": [
    "sequence_length = 36 # takes in 36 readings, one every ten mins, uhh most of the time the data is this, so this is 6 hours\n",
    "delay = sequence_length + 12 - 1 # The target is the temperature in an hour\n",
    "\n",
    "train = TimeseriesGenerator(scaled_train[:-delay], scaled_train[delay:], \n",
    "                            length=sequence_length, batch_size=1, shuffle=True)\n",
    "\n",
    "validation = TimeseriesGenerator(scaled_validation[:-delay], scaled_validation[delay:], \n",
    "                                 length=sequence_length, batch_size=1, shuffle=True)\n",
    "\n",
    "test = TimeseriesGenerator(scaled_test[:-delay], scaled_test[delay:], \n",
    "                           length=sequence_length, batch_size=1, shuffle=True)\n"
   ]
  },
  {
   "cell_type": "code",
   "execution_count": 23,
   "metadata": {},
   "outputs": [
    {
     "name": "stdout",
     "output_type": "stream",
     "text": [
      "Epoch 1/10\n"
     ]
    },
    {
     "name": "stderr",
     "output_type": "stream",
     "text": [
      "2023-05-15 09:16:28.925124: I tensorflow/core/common_runtime/executor.cc:1210] [/device:CPU:0] (DEBUG INFO) Executor start aborting (this does not indicate an error and you can ignore this message): INVALID_ARGUMENT: You must feed a value for placeholder tensor 'Placeholder/_0' with dtype int32\n",
      "\t [[{{node Placeholder/_0}}]]\n"
     ]
    },
    {
     "name": "stdout",
     "output_type": "stream",
     "text": [
      "953/963 [============================>.] - ETA: 0s - loss: 0.0221 - mae: 0.1168"
     ]
    },
    {
     "name": "stderr",
     "output_type": "stream",
     "text": [
      "2023-05-15 09:16:33.648167: I tensorflow/core/common_runtime/executor.cc:1210] [/device:CPU:0] (DEBUG INFO) Executor start aborting (this does not indicate an error and you can ignore this message): INVALID_ARGUMENT: You must feed a value for placeholder tensor 'Placeholder/_0' with dtype int32\n",
      "\t [[{{node Placeholder/_0}}]]\n"
     ]
    },
    {
     "name": "stdout",
     "output_type": "stream",
     "text": [
      "963/963 [==============================] - 5s 4ms/step - loss: 0.0221 - mae: 0.1167 - val_loss: 0.0319 - val_mae: 0.1489\n",
      "Epoch 2/10\n",
      "963/963 [==============================] - 4s 4ms/step - loss: 0.0148 - mae: 0.1003 - val_loss: 0.0227 - val_mae: 0.1179\n",
      "Epoch 3/10\n",
      "963/963 [==============================] - 4s 4ms/step - loss: 0.0154 - mae: 0.1028 - val_loss: 0.0229 - val_mae: 0.1220\n",
      "Epoch 4/10\n",
      "963/963 [==============================] - 4s 4ms/step - loss: 0.0142 - mae: 0.0971 - val_loss: 0.0200 - val_mae: 0.1060\n",
      "Epoch 5/10\n",
      "963/963 [==============================] - 4s 4ms/step - loss: 0.0137 - mae: 0.0955 - val_loss: 0.0258 - val_mae: 0.1305\n",
      "Epoch 6/10\n",
      "963/963 [==============================] - 4s 4ms/step - loss: 0.0130 - mae: 0.0909 - val_loss: 0.0195 - val_mae: 0.1038\n",
      "Epoch 7/10\n",
      "963/963 [==============================] - 4s 4ms/step - loss: 0.0130 - mae: 0.0923 - val_loss: 0.0248 - val_mae: 0.1271\n",
      "Epoch 8/10\n",
      "963/963 [==============================] - 4s 4ms/step - loss: 0.0134 - mae: 0.0952 - val_loss: 0.0202 - val_mae: 0.1080\n",
      "Epoch 9/10\n",
      "963/963 [==============================] - 4s 4ms/step - loss: 0.0115 - mae: 0.0869 - val_loss: 0.0154 - val_mae: 0.0940\n",
      "Epoch 10/10\n",
      "963/963 [==============================] - 4s 4ms/step - loss: 0.0122 - mae: 0.0886 - val_loss: 0.0208 - val_mae: 0.1115\n",
      "141/440 [========>.....................] - ETA: 0s - loss: 0.0541 - mae: 0.1958"
     ]
    },
    {
     "name": "stderr",
     "output_type": "stream",
     "text": [
      "2023-05-15 09:17:10.443754: I tensorflow/core/common_runtime/executor.cc:1210] [/device:CPU:0] (DEBUG INFO) Executor start aborting (this does not indicate an error and you can ignore this message): INVALID_ARGUMENT: You must feed a value for placeholder tensor 'Placeholder/_0' with dtype int32\n",
      "\t [[{{node Placeholder/_0}}]]\n"
     ]
    },
    {
     "name": "stdout",
     "output_type": "stream",
     "text": [
      "440/440 [==============================] - 0s 996us/step - loss: 0.0498 - mae: 0.1830\n",
      "Completed run for dropout = 0.3. Test MAE = 0.18300741910934448.\n"
     ]
    }
   ],
   "source": [
    "dropout = 0.3\n",
    "\n",
    "\n",
    "inputs = keras.Input(shape=(36, 1))\n",
    "\n",
    "x = layers.LSTM(16, dropout=dropout)(inputs)\n",
    "outputs = layers.Dense(1)(x)\n",
    "\n",
    "model = keras.Model(inputs, outputs)\n",
    "\n",
    "model.compile(optimizer=\"adam\", loss=\"mse\", metrics=[\"mae\"])\n",
    "history = model.fit(train,\n",
    "                    epochs=10,\n",
    "                    validation_data=validation)\n",
    "\n",
    "\n",
    "test_mae = model.evaluate(test)[1]\n",
    "loss = history.history[\"mae\"]\n",
    "val_loss = history.history[\"val_mae\"]\n",
    "epochs = range(1, len(loss) + 1)\n",
    "\n",
    "print(f'Completed run for dropout = {dropout}. Test MAE = {test_mae}.' )\n",
    "# return {'test_mae': test_mae, 'loss': loss, 'val_loss' : val_loss, 'epochs' : epochs}\n",
    "\n"
   ]
  },
  {
   "cell_type": "code",
   "execution_count": 24,
   "metadata": {},
   "outputs": [
    {
     "data": {
      "image/png": "[encoded data removed]",
      "text/plain": [
       "<Figure size 640x480 with 1 Axes>"
      ]
     },
     "metadata": {},
     "output_type": "display_data"
    }
   ],
   "source": [
    "plt.figure()\n",
    "plt.plot(epochs, loss, \"bo\", label=\"Training MAE\")\n",
    "plt.plot(epochs, val_loss, \"b\", label=\"Validation MAE\")\n",
    "plt.title(f'Training and validation MAE - 16 LSTM units, dropout = {dropout}')\n",
    "plt.legend()\n",
    "plt.show()"
   ]
  },
  {
   "cell_type": "code",
   "execution_count": null,
   "metadata": {},
   "outputs": [],
   "source": []
  },
  {
   "cell_type": "code",
   "execution_count": null,
   "metadata": {},
   "outputs": [],
   "source": [
    "# Keras - time series forecasting example \n",
    "\n",
    "# https://keras.io/examples/timeseries/timeseries_weather_forecasting/"
   ]
  },
  {
   "cell_type": "code",
   "execution_count": 30,
   "metadata": {},
   "outputs": [
    {
     "name": "stdout",
     "output_type": "stream",
     "text": [
      "Model: \"model_5\"\n",
      "_________________________________________________________________\n",
      " Layer (type)                Output Shape              Param #   \n",
      "=================================================================\n",
      " input_6 (InputLayer)        [(None, 36, 1)]           0         \n",
      "                                                                 \n",
      " lstm_5 (LSTM)               (None, 32)                4352      \n",
      "                                                                 \n",
      " dense_5 (Dense)             (None, 1)                 33        \n",
      "                                                                 \n",
      "=================================================================\n",
      "Total params: 4385 (17.13 KB)\n",
      "Trainable params: 4385 (17.13 KB)\n",
      "Non-trainable params: 0 (0.00 Byte)\n",
      "_________________________________________________________________\n",
      "Epoch 1/10\n"
     ]
    },
    {
     "name": "stderr",
     "output_type": "stream",
     "text": [
      "2023-05-15 09:35:55.116467: I tensorflow/core/common_runtime/executor.cc:1210] [/device:CPU:0] (DEBUG INFO) Executor start aborting (this does not indicate an error and you can ignore this message): INVALID_ARGUMENT: You must feed a value for placeholder tensor 'Placeholder/_0' with dtype int32\n",
      "\t [[{{node Placeholder/_0}}]]\n"
     ]
    },
    {
     "name": "stdout",
     "output_type": "stream",
     "text": [
      "951/963 [============================>.] - ETA: 0s - loss: 0.0251 - mae: 0.1174"
     ]
    },
    {
     "name": "stderr",
     "output_type": "stream",
     "text": [
      "2023-05-15 09:36:00.105217: I tensorflow/core/common_runtime/executor.cc:1210] [/device:CPU:0] (DEBUG INFO) Executor start aborting (this does not indicate an error and you can ignore this message): INVALID_ARGUMENT: You must feed a value for placeholder tensor 'Placeholder/_0' with dtype int32\n",
      "\t [[{{node Placeholder/_0}}]]\n"
     ]
    },
    {
     "name": "stdout",
     "output_type": "stream",
     "text": [
      "\n",
      "Epoch 1: val_loss improved from inf to 0.02862, saving model to model_checkpoint.h5\n",
      "963/963 [==============================] - 6s 5ms/step - loss: 0.0249 - mae: 0.1172 - val_loss: 0.0286 - val_mae: 0.1393\n",
      "Epoch 2/10\n",
      "954/963 [============================>.] - ETA: 0s - loss: 0.0152 - mae: 0.1023\n",
      "Epoch 2: val_loss improved from 0.02862 to 0.02538, saving model to model_checkpoint.h5\n",
      "963/963 [==============================] - 4s 4ms/step - loss: 0.0151 - mae: 0.1020 - val_loss: 0.0254 - val_mae: 0.1320\n",
      "Epoch 3/10\n",
      "959/963 [============================>.] - ETA: 0s - loss: 0.0150 - mae: 0.1011\n",
      "Epoch 3: val_loss improved from 0.02538 to 0.02102, saving model to model_checkpoint.h5\n",
      "963/963 [==============================] - 4s 4ms/step - loss: 0.0151 - mae: 0.1013 - val_loss: 0.0210 - val_mae: 0.1070\n",
      "Epoch 4/10\n",
      "961/963 [============================>.] - ETA: 0s - loss: 0.0143 - mae: 0.0986\n",
      "Epoch 4: val_loss did not improve from 0.02102\n",
      "963/963 [==============================] - 4s 4ms/step - loss: 0.0143 - mae: 0.0985 - val_loss: 0.0229 - val_mae: 0.1238\n",
      "Epoch 5/10\n",
      "961/963 [============================>.] - ETA: 0s - loss: 0.0136 - mae: 0.0965\n",
      "Epoch 5: val_loss improved from 0.02102 to 0.01740, saving model to model_checkpoint.h5\n",
      "963/963 [==============================] - 4s 4ms/step - loss: 0.0136 - mae: 0.0966 - val_loss: 0.0174 - val_mae: 0.0971\n",
      "Epoch 6/10\n",
      "960/963 [============================>.] - ETA: 0s - loss: 0.0125 - mae: 0.0912\n",
      "Epoch 6: val_loss did not improve from 0.01740\n",
      "963/963 [==============================] - 4s 4ms/step - loss: 0.0125 - mae: 0.0913 - val_loss: 0.0175 - val_mae: 0.1016\n",
      "Epoch 7/10\n",
      "962/963 [============================>.] - ETA: 0s - loss: 0.0143 - mae: 0.0978\n",
      "Epoch 7: val_loss did not improve from 0.01740\n",
      "963/963 [==============================] - 4s 4ms/step - loss: 0.0143 - mae: 0.0978 - val_loss: 0.0205 - val_mae: 0.1148\n",
      "Epoch 8/10\n",
      "959/963 [============================>.] - ETA: 0s - loss: 0.0132 - mae: 0.0928\n",
      "Epoch 8: val_loss did not improve from 0.01740\n",
      "963/963 [==============================] - 4s 4ms/step - loss: 0.0132 - mae: 0.0928 - val_loss: 0.0179 - val_mae: 0.0980\n",
      "Epoch 9/10\n",
      "957/963 [============================>.] - ETA: 0s - loss: 0.0124 - mae: 0.0883\n",
      "Epoch 9: val_loss did not improve from 0.01740\n",
      "963/963 [==============================] - 4s 4ms/step - loss: 0.0123 - mae: 0.0882 - val_loss: 0.0210 - val_mae: 0.1136\n",
      "Epoch 10/10\n",
      "957/963 [============================>.] - ETA: 0s - loss: 0.0120 - mae: 0.0888\n",
      "Epoch 10: val_loss did not improve from 0.01740\n",
      "963/963 [==============================] - 4s 4ms/step - loss: 0.0120 - mae: 0.0888 - val_loss: 0.0215 - val_mae: 0.1131\n",
      "158/440 [=========>....................] - ETA: 0s - loss: 0.0668 - mae: 0.2303"
     ]
    },
    {
     "name": "stderr",
     "output_type": "stream",
     "text": [
      "2023-05-15 09:36:37.643692: I tensorflow/core/common_runtime/executor.cc:1210] [/device:CPU:0] (DEBUG INFO) Executor start aborting (this does not indicate an error and you can ignore this message): INVALID_ARGUMENT: You must feed a value for placeholder tensor 'Placeholder/_0' with dtype int32\n",
      "\t [[{{node Placeholder/_0}}]]\n"
     ]
    },
    {
     "name": "stdout",
     "output_type": "stream",
     "text": [
      "440/440 [==============================] - 0s 958us/step - loss: 0.0661 - mae: 0.2276\n"
     ]
    }
   ],
   "source": [
    "#learning_rate = 0.001\n",
    "\n",
    "inputs = keras.Input(shape=(36, 1))\n",
    "\n",
    "x = layers.LSTM(32, dropout=dropout)(inputs)\n",
    "outputs = layers.Dense(1)(x)\n",
    "\n",
    "model = keras.Model(inputs, outputs)\n",
    "\n",
    "model.compile(optimizer=\"adam\", loss=\"mse\", metrics=[\"mae\"])\n",
    "\n",
    "model.summary()\n",
    "\n",
    "path_checkpoint = \"model_checkpoint.h5\"\n",
    "es_callback = keras.callbacks.EarlyStopping(monitor=\"val_loss\", min_delta=0, patience=5)\n",
    "\n",
    "modelckpt_callback = keras.callbacks.ModelCheckpoint(\n",
    "    monitor=\"val_loss\",\n",
    "    filepath=path_checkpoint,\n",
    "    verbose=1,\n",
    "    save_weights_only=True,\n",
    "    save_best_only=True,\n",
    ")\n",
    "\n",
    "history = model.fit(train,\n",
    "                    epochs=10,\n",
    "                    validation_data=validation,\n",
    "                    callbacks=[es_callback, modelckpt_callback])\n",
    "\n",
    "\n",
    "test_mae = model.evaluate(test)[1]\n",
    "loss = history.history[\"mae\"]\n",
    "val_loss = history.history[\"val_mae\"]\n",
    "epochs = range(1, len(loss) + 1)\n",
    "\n"
   ]
  },
  {
   "cell_type": "code",
   "execution_count": 27,
   "metadata": {},
   "outputs": [
    {
     "name": "stdout",
     "output_type": "stream",
     "text": [
      "161/440 [=========>....................] - ETA: 0s - loss: 0.0492 - mae: 0.1852"
     ]
    },
    {
     "name": "stderr",
     "output_type": "stream",
     "text": [
      "2023-05-15 09:28:39.142882: I tensorflow/core/common_runtime/executor.cc:1210] [/device:CPU:0] (DEBUG INFO) Executor start aborting (this does not indicate an error and you can ignore this message): INVALID_ARGUMENT: You must feed a value for placeholder tensor 'Placeholder/_0' with dtype int32\n",
      "\t [[{{node Placeholder/_0}}]]\n"
     ]
    },
    {
     "name": "stdout",
     "output_type": "stream",
     "text": [
      "440/440 [==============================] - 0s 947us/step - loss: 0.0514 - mae: 0.1930\n",
      "0.19302210211753845\n"
     ]
    }
   ],
   "source": [
    "test_mae = model.evaluate(test)[1]\n",
    "print(test_mae)"
   ]
  },
  {
   "cell_type": "code",
   "execution_count": null,
   "metadata": {},
   "outputs": [],
   "source": []
  }
 ],
 "metadata": {
  "kernelspec": {
   "display_name": "Python 3",
   "language": "python",
   "name": "python3"
  },
  "language_info": {
   "codemirror_mode": {
    "name": "ipython",
    "version": 3
   },
   "file_extension": ".py",
   "mimetype": "text/x-python",
   "name": "python",
   "nbconvert_exporter": "python",
   "pygments_lexer": "ipython3",
   "version": "3.9.11"
  },
  "orig_nbformat": 4
 },
 "nbformat": 4,
 "nbformat_minor": 2
}
